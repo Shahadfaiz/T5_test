{
 "cells": [
  {
   "cell_type": "markdown",
   "id": "cda1ba95",
   "metadata": {},
   "source": [
    "# Exam on Artificial Neural Networks (ANN)\n",
    "\n",
    "Welcome the Artificial Neural Networks (ANN) practical exam. In this exam, you will work on a classification task to predict the outcome of incidents involving buses. You are provided with a dataset that records breakdowns and delays in bus operations. Your task is to build, train, and evaluate an ANN model.\n",
    "\n",
    "---\n",
    "\n",
    "## Dataset Overview\n",
    "\n",
    "### **Dataset:**\n",
    "* Just run the command under the `Load Data` section to get the data downloaded and unzipped or you can access it [here](https://drive.google.com/file/d/1Flvj3qDkV2rPw7GGi5zOR-WGJgEBtRk-/view?usp=sharing)\n",
    "\n",
    "### **Dataset Name:** Bus Breakdown and Delays\n",
    "\n",
    "### **Description:**  \n",
    "The dataset contains records of incidents involving buses that were either running late or experienced a breakdown. Your task is to predict whether the bus was delayed or had a breakdown based on the features provided.\n",
    "\n",
    "### **Features:**\n",
    "The dataset contains the following columns:\n",
    "\n",
    "- `School_Year`\n",
    "- `Busbreakdown_ID`\n",
    "- `Run_Type`\n",
    "- `Bus_No`\n",
    "- `Route_Number`\n",
    "- `Reason`\n",
    "- `Schools_Serviced`\n",
    "- `Occurred_On`\n",
    "- `Created_On`\n",
    "- `Boro`\n",
    "- `Bus_Company_Name`\n",
    "- `How_Long_Delayed`\n",
    "- `Number_Of_Students_On_The_Bus`\n",
    "- `Has_Contractor_Notified_Schools`\n",
    "- `Has_Contractor_Notified_Parents`\n",
    "- `Have_You_Alerted_OPT`\n",
    "- `Informed_On`\n",
    "- `Incident_Number`\n",
    "- `Last_Updated_On`\n",
    "- `Breakdown_or_Running_Late` (Target Column)\n",
    "- `School_Age_or_PreK`"
   ]
  },
  {
   "cell_type": "markdown",
   "id": "4c2b014b",
   "metadata": {},
   "source": [
    "## Load Data"
   ]
  },
  {
   "cell_type": "code",
   "execution_count": 1,
   "id": "98ad02f5",
   "metadata": {},
   "outputs": [
    {
     "name": "stdout",
     "output_type": "stream",
     "text": [
      "Requirement already satisfied: gdown in c:\\users\\hp\\anaconda3\\lib\\site-packages (5.2.0)\n",
      "Requirement already satisfied: beautifulsoup4 in c:\\users\\hp\\anaconda3\\lib\\site-packages (from gdown) (4.12.2)\n",
      "Requirement already satisfied: filelock in c:\\users\\hp\\anaconda3\\lib\\site-packages (from gdown) (3.13.1)\n",
      "Requirement already satisfied: requests[socks] in c:\\users\\hp\\anaconda3\\lib\\site-packages (from gdown) (2.31.0)\n",
      "Requirement already satisfied: tqdm in c:\\users\\hp\\anaconda3\\lib\\site-packages (from gdown) (4.65.0)\n",
      "Requirement already satisfied: soupsieve>1.2 in c:\\users\\hp\\anaconda3\\lib\\site-packages (from beautifulsoup4->gdown) (2.5)\n",
      "Requirement already satisfied: charset-normalizer<4,>=2 in c:\\users\\hp\\anaconda3\\lib\\site-packages (from requests[socks]->gdown) (2.0.4)\n",
      "Requirement already satisfied: idna<4,>=2.5 in c:\\users\\hp\\anaconda3\\lib\\site-packages (from requests[socks]->gdown) (3.4)\n",
      "Requirement already satisfied: urllib3<3,>=1.21.1 in c:\\users\\hp\\anaconda3\\lib\\site-packages (from requests[socks]->gdown) (2.0.7)\n",
      "Requirement already satisfied: certifi>=2017.4.17 in c:\\users\\hp\\anaconda3\\lib\\site-packages (from requests[socks]->gdown) (2024.2.2)\n",
      "Requirement already satisfied: PySocks!=1.5.7,>=1.5.6 in c:\\users\\hp\\anaconda3\\lib\\site-packages (from requests[socks]->gdown) (1.7.1)\n",
      "Requirement already satisfied: colorama in c:\\users\\hp\\anaconda3\\lib\\site-packages (from tqdm->gdown) (0.4.6)\n"
     ]
    },
    {
     "name": "stderr",
     "output_type": "stream",
     "text": [
      "C:\\Users\\HP\\anaconda3\\Lib\\site-packages\\gdown\\__main__.py:140: FutureWarning: Option `--id` was deprecated in version 4.3.1 and will be removed in 5.0. You don't need to pass it anymore to use a file ID.\n",
      "  warnings.warn(\n",
      "Downloading...\n",
      "From: https://drive.google.com/uc?id=1Flvj3qDkV2rPw7GGi5zOR-WGJgEBtRk-\n",
      "To: c:\\Users\\HP\\Desktop\\Bootcamp\\Week 4\\weekly_project\\Bus_Breakdown_and_Delays.csv\n",
      "\n",
      "  0%|          | 0.00/34.4M [00:00<?, ?B/s]\n",
      "  2%|▏         | 524k/34.4M [00:00<00:18, 1.84MB/s]\n",
      "  5%|▍         | 1.57M/34.4M [00:00<00:07, 4.38MB/s]\n",
      " 11%|█         | 3.67M/34.4M [00:00<00:03, 8.52MB/s]\n",
      " 23%|██▎       | 7.86M/34.4M [00:00<00:01, 17.3MB/s]\n",
      " 29%|██▉       | 9.96M/34.4M [00:00<00:02, 11.0MB/s]\n",
      " 35%|███▌      | 12.1M/34.4M [00:01<00:01, 12.0MB/s]\n",
      " 40%|███▉      | 13.6M/34.4M [00:01<00:01, 12.3MB/s]\n",
      " 46%|████▌     | 15.7M/34.4M [00:01<00:01, 13.9MB/s]\n",
      " 56%|█████▋    | 19.4M/34.4M [00:01<00:00, 18.2MB/s]\n",
      " 62%|██████▏   | 21.5M/34.4M [00:01<00:00, 18.4MB/s]\n",
      " 69%|██████▊   | 23.6M/34.4M [00:01<00:00, 18.5MB/s]\n",
      " 75%|███████▍  | 25.7M/34.4M [00:01<00:00, 18.9MB/s]\n",
      " 81%|████████  | 27.8M/34.4M [00:01<00:00, 18.8MB/s]\n",
      " 87%|████████▋ | 29.9M/34.4M [00:02<00:00, 18.7MB/s]\n",
      " 93%|█████████▎| 32.0M/34.4M [00:02<00:00, 18.7MB/s]\n",
      " 99%|█████████▉| 34.1M/34.4M [00:02<00:00, 18.5MB/s]\n",
      "100%|██████████| 34.4M/34.4M [00:02<00:00, 15.1MB/s]\n"
     ]
    }
   ],
   "source": [
    "#https://drive.google.com/file/d/1Flvj3qDkV2rPw7GGi5zOR-WGJgEBtRk-/view?usp=sharing\n",
    "!pip install gdown\n",
    "!gdown --id 1Flvj3qDkV2rPw7GGi5zOR-WGJgEBtRk-"
   ]
  },
  {
   "cell_type": "markdown",
   "id": "3e39620c",
   "metadata": {},
   "source": [
    "## Importing Libraries"
   ]
  },
  {
   "cell_type": "code",
   "execution_count": 45,
   "id": "62381953",
   "metadata": {},
   "outputs": [],
   "source": [
    "import numpy as np\n",
    "import pandas as pd\n",
    "import matplotlib.pyplot as plt\n",
    "import seaborn as sns\n",
    "import random\n",
    "\n",
    "from sklearn.impute import SimpleImputer\n",
    "from sklearn.preprocessing import LabelEncoder\n",
    "from sklearn.preprocessing import StandardScaler\n",
    "from imblearn.over_sampling import SMOTE\n",
    "from sklearn.model_selection import train_test_split\n",
    "\n",
    "from tensorflow.keras.models import Sequential\n",
    "from tensorflow.keras.layers import Dense\n",
    "from tensorflow.keras.optimizers import Adam\n",
    "from sklearn.metrics import accuracy_score, precision_score, recall_score, f1_score, confusion_matrix, classification_report\n",
    "from tensorflow.keras.callbacks import EarlyStopping\n"
   ]
  },
  {
   "cell_type": "markdown",
   "id": "71ccd4e2",
   "metadata": {},
   "source": [
    "## Exploratory Data Analysis (EDA)\n",
    "This could include:\n",
    "* **Inspect the dataset**\n",
    "\n",
    "* **Dataset structure**\n",
    "\n",
    "* **Summary statistics**\n",
    "\n",
    "* **Check for missing values**\n",
    "\n",
    "* **Distribution of features**\n",
    "\n",
    "* **Categorical feature analysis**\n",
    "\n",
    "* **Correlation matrix**\n",
    "\n",
    "* **Outlier detection**\n",
    "\n",
    "And add more as needed!"
   ]
  },
  {
   "cell_type": "code",
   "execution_count": 3,
   "id": "0b800b0c",
   "metadata": {},
   "outputs": [],
   "source": [
    "df = pd.read_csv('Bus_Breakdown_and_Delays.csv')"
   ]
  },
  {
   "cell_type": "code",
   "execution_count": 4,
   "id": "bf627cf0",
   "metadata": {},
   "outputs": [
    {
     "data": {
      "text/html": [
       "<div>\n",
       "<style scoped>\n",
       "    .dataframe tbody tr th:only-of-type {\n",
       "        vertical-align: middle;\n",
       "    }\n",
       "\n",
       "    .dataframe tbody tr th {\n",
       "        vertical-align: top;\n",
       "    }\n",
       "\n",
       "    .dataframe thead th {\n",
       "        text-align: right;\n",
       "    }\n",
       "</style>\n",
       "<table border=\"1\" class=\"dataframe\">\n",
       "  <thead>\n",
       "    <tr style=\"text-align: right;\">\n",
       "      <th></th>\n",
       "      <th>School_Year</th>\n",
       "      <th>Busbreakdown_ID</th>\n",
       "      <th>Run_Type</th>\n",
       "      <th>Bus_No</th>\n",
       "      <th>Route_Number</th>\n",
       "      <th>Reason</th>\n",
       "      <th>Schools_Serviced</th>\n",
       "      <th>Occurred_On</th>\n",
       "      <th>Created_On</th>\n",
       "      <th>Boro</th>\n",
       "      <th>Bus_Company_Name</th>\n",
       "      <th>How_Long_Delayed</th>\n",
       "      <th>Number_Of_Students_On_The_Bus</th>\n",
       "      <th>Has_Contractor_Notified_Schools</th>\n",
       "      <th>Has_Contractor_Notified_Parents</th>\n",
       "      <th>Have_You_Alerted_OPT</th>\n",
       "      <th>Informed_On</th>\n",
       "      <th>Incident_Number</th>\n",
       "      <th>Last_Updated_On</th>\n",
       "      <th>Breakdown_or_Running_Late</th>\n",
       "      <th>School_Age_or_PreK</th>\n",
       "    </tr>\n",
       "  </thead>\n",
       "  <tbody>\n",
       "    <tr>\n",
       "      <th>0</th>\n",
       "      <td>2015-2016</td>\n",
       "      <td>1224901</td>\n",
       "      <td>Pre-K/EI</td>\n",
       "      <td>811</td>\n",
       "      <td>1</td>\n",
       "      <td>Other</td>\n",
       "      <td>C353</td>\n",
       "      <td>10/26/2015 08:30:00 AM</td>\n",
       "      <td>10/26/2015 08:40:00 AM</td>\n",
       "      <td>Bronx</td>\n",
       "      <td>G.V.C., LTD.</td>\n",
       "      <td>10MINUTES</td>\n",
       "      <td>5</td>\n",
       "      <td>Yes</td>\n",
       "      <td>Yes</td>\n",
       "      <td>No</td>\n",
       "      <td>10/26/2015 08:40:00 AM</td>\n",
       "      <td>NaN</td>\n",
       "      <td>10/26/2015 08:40:39 AM</td>\n",
       "      <td>Running Late</td>\n",
       "      <td>Pre-K</td>\n",
       "    </tr>\n",
       "    <tr>\n",
       "      <th>1</th>\n",
       "      <td>2015-2016</td>\n",
       "      <td>1225098</td>\n",
       "      <td>Pre-K/EI</td>\n",
       "      <td>9302</td>\n",
       "      <td>1</td>\n",
       "      <td>Heavy Traffic</td>\n",
       "      <td>C814</td>\n",
       "      <td>10/27/2015 07:10:00 AM</td>\n",
       "      <td>10/27/2015 07:11:00 AM</td>\n",
       "      <td>Bronx</td>\n",
       "      <td>G.V.C., LTD.</td>\n",
       "      <td>25 MINUTES</td>\n",
       "      <td>3</td>\n",
       "      <td>Yes</td>\n",
       "      <td>Yes</td>\n",
       "      <td>No</td>\n",
       "      <td>10/27/2015 07:11:00 AM</td>\n",
       "      <td>NaN</td>\n",
       "      <td>10/27/2015 07:11:22 AM</td>\n",
       "      <td>Running Late</td>\n",
       "      <td>Pre-K</td>\n",
       "    </tr>\n",
       "    <tr>\n",
       "      <th>2</th>\n",
       "      <td>2015-2016</td>\n",
       "      <td>1215800</td>\n",
       "      <td>Pre-K/EI</td>\n",
       "      <td>358</td>\n",
       "      <td>2</td>\n",
       "      <td>Heavy Traffic</td>\n",
       "      <td>C195</td>\n",
       "      <td>09/18/2015 07:36:00 AM</td>\n",
       "      <td>09/18/2015 07:38:00 AM</td>\n",
       "      <td>Bronx</td>\n",
       "      <td>G.V.C., LTD.</td>\n",
       "      <td>15 MINUTES</td>\n",
       "      <td>12</td>\n",
       "      <td>Yes</td>\n",
       "      <td>Yes</td>\n",
       "      <td>Yes</td>\n",
       "      <td>09/18/2015 07:38:00 AM</td>\n",
       "      <td>NaN</td>\n",
       "      <td>09/18/2015 07:38:44 AM</td>\n",
       "      <td>Running Late</td>\n",
       "      <td>Pre-K</td>\n",
       "    </tr>\n",
       "    <tr>\n",
       "      <th>3</th>\n",
       "      <td>2015-2016</td>\n",
       "      <td>1215511</td>\n",
       "      <td>Pre-K/EI</td>\n",
       "      <td>331</td>\n",
       "      <td>2</td>\n",
       "      <td>Other</td>\n",
       "      <td>C178</td>\n",
       "      <td>09/17/2015 08:08:00 AM</td>\n",
       "      <td>09/17/2015 08:12:00 AM</td>\n",
       "      <td>Bronx</td>\n",
       "      <td>G.V.C., LTD.</td>\n",
       "      <td>10 minutes</td>\n",
       "      <td>11</td>\n",
       "      <td>Yes</td>\n",
       "      <td>Yes</td>\n",
       "      <td>Yes</td>\n",
       "      <td>09/17/2015 08:12:00 AM</td>\n",
       "      <td>NaN</td>\n",
       "      <td>09/17/2015 08:12:08 AM</td>\n",
       "      <td>Running Late</td>\n",
       "      <td>Pre-K</td>\n",
       "    </tr>\n",
       "    <tr>\n",
       "      <th>4</th>\n",
       "      <td>2015-2016</td>\n",
       "      <td>1215828</td>\n",
       "      <td>Pre-K/EI</td>\n",
       "      <td>332</td>\n",
       "      <td>2</td>\n",
       "      <td>Other</td>\n",
       "      <td>S176</td>\n",
       "      <td>09/18/2015 07:39:00 AM</td>\n",
       "      <td>09/18/2015 07:45:00 AM</td>\n",
       "      <td>Bronx</td>\n",
       "      <td>G.V.C., LTD.</td>\n",
       "      <td>10MINUTES</td>\n",
       "      <td>12</td>\n",
       "      <td>Yes</td>\n",
       "      <td>Yes</td>\n",
       "      <td>No</td>\n",
       "      <td>09/18/2015 07:45:00 AM</td>\n",
       "      <td>NaN</td>\n",
       "      <td>09/18/2015 07:56:40 AM</td>\n",
       "      <td>Running Late</td>\n",
       "      <td>Pre-K</td>\n",
       "    </tr>\n",
       "  </tbody>\n",
       "</table>\n",
       "</div>"
      ],
      "text/plain": [
       "  School_Year  Busbreakdown_ID  Run_Type Bus_No Route_Number         Reason  \\\n",
       "0   2015-2016          1224901  Pre-K/EI    811            1          Other   \n",
       "1   2015-2016          1225098  Pre-K/EI   9302            1  Heavy Traffic   \n",
       "2   2015-2016          1215800  Pre-K/EI    358            2  Heavy Traffic   \n",
       "3   2015-2016          1215511  Pre-K/EI    331            2          Other   \n",
       "4   2015-2016          1215828  Pre-K/EI    332            2          Other   \n",
       "\n",
       "  Schools_Serviced             Occurred_On              Created_On   Boro  \\\n",
       "0             C353  10/26/2015 08:30:00 AM  10/26/2015 08:40:00 AM  Bronx   \n",
       "1             C814  10/27/2015 07:10:00 AM  10/27/2015 07:11:00 AM  Bronx   \n",
       "2             C195  09/18/2015 07:36:00 AM  09/18/2015 07:38:00 AM  Bronx   \n",
       "3             C178  09/17/2015 08:08:00 AM  09/17/2015 08:12:00 AM  Bronx   \n",
       "4             S176  09/18/2015 07:39:00 AM  09/18/2015 07:45:00 AM  Bronx   \n",
       "\n",
       "  Bus_Company_Name How_Long_Delayed  Number_Of_Students_On_The_Bus  \\\n",
       "0     G.V.C., LTD.        10MINUTES                              5   \n",
       "1     G.V.C., LTD.       25 MINUTES                              3   \n",
       "2     G.V.C., LTD.       15 MINUTES                             12   \n",
       "3     G.V.C., LTD.       10 minutes                             11   \n",
       "4     G.V.C., LTD.        10MINUTES                             12   \n",
       "\n",
       "  Has_Contractor_Notified_Schools Has_Contractor_Notified_Parents  \\\n",
       "0                             Yes                             Yes   \n",
       "1                             Yes                             Yes   \n",
       "2                             Yes                             Yes   \n",
       "3                             Yes                             Yes   \n",
       "4                             Yes                             Yes   \n",
       "\n",
       "  Have_You_Alerted_OPT             Informed_On Incident_Number  \\\n",
       "0                   No  10/26/2015 08:40:00 AM             NaN   \n",
       "1                   No  10/27/2015 07:11:00 AM             NaN   \n",
       "2                  Yes  09/18/2015 07:38:00 AM             NaN   \n",
       "3                  Yes  09/17/2015 08:12:00 AM             NaN   \n",
       "4                   No  09/18/2015 07:45:00 AM             NaN   \n",
       "\n",
       "          Last_Updated_On Breakdown_or_Running_Late School_Age_or_PreK  \n",
       "0  10/26/2015 08:40:39 AM              Running Late              Pre-K  \n",
       "1  10/27/2015 07:11:22 AM              Running Late              Pre-K  \n",
       "2  09/18/2015 07:38:44 AM              Running Late              Pre-K  \n",
       "3  09/17/2015 08:12:08 AM              Running Late              Pre-K  \n",
       "4  09/18/2015 07:56:40 AM              Running Late              Pre-K  "
      ]
     },
     "execution_count": 4,
     "metadata": {},
     "output_type": "execute_result"
    }
   ],
   "source": [
    "pd.set_option('display.max_columns', None)\n",
    "df.head()"
   ]
  },
  {
   "cell_type": "code",
   "execution_count": 5,
   "id": "9d28f41f",
   "metadata": {},
   "outputs": [
    {
     "name": "stdout",
     "output_type": "stream",
     "text": [
      "<class 'pandas.core.frame.DataFrame'>\n",
      "RangeIndex: 147972 entries, 0 to 147971\n",
      "Data columns (total 21 columns):\n",
      " #   Column                           Non-Null Count   Dtype \n",
      "---  ------                           --------------   ----- \n",
      " 0   School_Year                      147972 non-null  object\n",
      " 1   Busbreakdown_ID                  147972 non-null  int64 \n",
      " 2   Run_Type                         147883 non-null  object\n",
      " 3   Bus_No                           147972 non-null  object\n",
      " 4   Route_Number                     147884 non-null  object\n",
      " 5   Reason                           147870 non-null  object\n",
      " 6   Schools_Serviced                 147972 non-null  object\n",
      " 7   Occurred_On                      147972 non-null  object\n",
      " 8   Created_On                       147972 non-null  object\n",
      " 9   Boro                             141654 non-null  object\n",
      " 10  Bus_Company_Name                 147972 non-null  object\n",
      " 11  How_Long_Delayed                 126342 non-null  object\n",
      " 12  Number_Of_Students_On_The_Bus    147972 non-null  int64 \n",
      " 13  Has_Contractor_Notified_Schools  147972 non-null  object\n",
      " 14  Has_Contractor_Notified_Parents  147972 non-null  object\n",
      " 15  Have_You_Alerted_OPT             147972 non-null  object\n",
      " 16  Informed_On                      147972 non-null  object\n",
      " 17  Incident_Number                  5632 non-null    object\n",
      " 18  Last_Updated_On                  147972 non-null  object\n",
      " 19  Breakdown_or_Running_Late        147972 non-null  object\n",
      " 20  School_Age_or_PreK               147972 non-null  object\n",
      "dtypes: int64(2), object(19)\n",
      "memory usage: 23.7+ MB\n"
     ]
    }
   ],
   "source": [
    "df.info()"
   ]
  },
  {
   "cell_type": "code",
   "execution_count": 6,
   "id": "0b59a532",
   "metadata": {},
   "outputs": [
    {
     "data": {
      "text/html": [
       "<div>\n",
       "<style scoped>\n",
       "    .dataframe tbody tr th:only-of-type {\n",
       "        vertical-align: middle;\n",
       "    }\n",
       "\n",
       "    .dataframe tbody tr th {\n",
       "        vertical-align: top;\n",
       "    }\n",
       "\n",
       "    .dataframe thead th {\n",
       "        text-align: right;\n",
       "    }\n",
       "</style>\n",
       "<table border=\"1\" class=\"dataframe\">\n",
       "  <thead>\n",
       "    <tr style=\"text-align: right;\">\n",
       "      <th></th>\n",
       "      <th>Busbreakdown_ID</th>\n",
       "      <th>Number_Of_Students_On_The_Bus</th>\n",
       "    </tr>\n",
       "  </thead>\n",
       "  <tbody>\n",
       "    <tr>\n",
       "      <th>count</th>\n",
       "      <td>1.479720e+05</td>\n",
       "      <td>147972.000000</td>\n",
       "    </tr>\n",
       "    <tr>\n",
       "      <th>mean</th>\n",
       "      <td>1.287779e+06</td>\n",
       "      <td>3.590071</td>\n",
       "    </tr>\n",
       "    <tr>\n",
       "      <th>std</th>\n",
       "      <td>4.324338e+04</td>\n",
       "      <td>55.365859</td>\n",
       "    </tr>\n",
       "    <tr>\n",
       "      <th>min</th>\n",
       "      <td>1.212681e+06</td>\n",
       "      <td>0.000000</td>\n",
       "    </tr>\n",
       "    <tr>\n",
       "      <th>25%</th>\n",
       "      <td>1.250438e+06</td>\n",
       "      <td>0.000000</td>\n",
       "    </tr>\n",
       "    <tr>\n",
       "      <th>50%</th>\n",
       "      <td>1.287844e+06</td>\n",
       "      <td>0.000000</td>\n",
       "    </tr>\n",
       "    <tr>\n",
       "      <th>75%</th>\n",
       "      <td>1.325191e+06</td>\n",
       "      <td>4.000000</td>\n",
       "    </tr>\n",
       "    <tr>\n",
       "      <th>max</th>\n",
       "      <td>1.362605e+06</td>\n",
       "      <td>9007.000000</td>\n",
       "    </tr>\n",
       "  </tbody>\n",
       "</table>\n",
       "</div>"
      ],
      "text/plain": [
       "       Busbreakdown_ID  Number_Of_Students_On_The_Bus\n",
       "count     1.479720e+05                  147972.000000\n",
       "mean      1.287779e+06                       3.590071\n",
       "std       4.324338e+04                      55.365859\n",
       "min       1.212681e+06                       0.000000\n",
       "25%       1.250438e+06                       0.000000\n",
       "50%       1.287844e+06                       0.000000\n",
       "75%       1.325191e+06                       4.000000\n",
       "max       1.362605e+06                    9007.000000"
      ]
     },
     "execution_count": 6,
     "metadata": {},
     "output_type": "execute_result"
    }
   ],
   "source": [
    "df.describe()"
   ]
  },
  {
   "cell_type": "code",
   "execution_count": 7,
   "id": "fffb873f",
   "metadata": {},
   "outputs": [
    {
     "data": {
      "text/plain": [
       "School_Year                             0\n",
       "Busbreakdown_ID                         0\n",
       "Run_Type                               89\n",
       "Bus_No                                  0\n",
       "Route_Number                           88\n",
       "Reason                                102\n",
       "Schools_Serviced                        0\n",
       "Occurred_On                             0\n",
       "Created_On                              0\n",
       "Boro                                 6318\n",
       "Bus_Company_Name                        0\n",
       "How_Long_Delayed                    21630\n",
       "Number_Of_Students_On_The_Bus           0\n",
       "Has_Contractor_Notified_Schools         0\n",
       "Has_Contractor_Notified_Parents         0\n",
       "Have_You_Alerted_OPT                    0\n",
       "Informed_On                             0\n",
       "Incident_Number                    142340\n",
       "Last_Updated_On                         0\n",
       "Breakdown_or_Running_Late               0\n",
       "School_Age_or_PreK                      0\n",
       "dtype: int64"
      ]
     },
     "execution_count": 7,
     "metadata": {},
     "output_type": "execute_result"
    }
   ],
   "source": [
    "df.isnull().sum()"
   ]
  },
  {
   "cell_type": "code",
   "execution_count": 8,
   "id": "0354ec8c",
   "metadata": {},
   "outputs": [],
   "source": [
    "# most data in the Incident_Number column is missing, so we can drop it\n",
    "df.drop('Incident_Number', axis=1, inplace=True)"
   ]
  },
  {
   "cell_type": "code",
   "execution_count": 9,
   "id": "f74384fb",
   "metadata": {},
   "outputs": [],
   "source": [
    "# replace the missing values in Run_type and with the most frequent value\n",
    "df['Run_Type'].fillna(df['Run_Type'].mode()[0], inplace=True)\n",
    "df['Reason'].fillna(df['Reason'].mode()[0], inplace=True)"
   ]
  },
  {
   "cell_type": "code",
   "execution_count": 10,
   "id": "32c30d17",
   "metadata": {},
   "outputs": [],
   "source": [
    "# replace the missing values in Route_Number and How_Long_Delayed with 'Unknown'\n",
    "df['Route_Number'].fillna('Unknown', inplace=True)\n",
    "df['How_Long_Delayed'].fillna('Unknown', inplace=True)"
   ]
  },
  {
   "cell_type": "code",
   "execution_count": 11,
   "id": "728b1d69",
   "metadata": {},
   "outputs": [],
   "source": [
    "df.dropna(subset='Boro',inplace=True)"
   ]
  },
  {
   "cell_type": "code",
   "execution_count": 12,
   "id": "a0819b97",
   "metadata": {},
   "outputs": [
    {
     "data": {
      "text/plain": [
       "School_Year                        0\n",
       "Busbreakdown_ID                    0\n",
       "Run_Type                           0\n",
       "Bus_No                             0\n",
       "Route_Number                       0\n",
       "Reason                             0\n",
       "Schools_Serviced                   0\n",
       "Occurred_On                        0\n",
       "Created_On                         0\n",
       "Boro                               0\n",
       "Bus_Company_Name                   0\n",
       "How_Long_Delayed                   0\n",
       "Number_Of_Students_On_The_Bus      0\n",
       "Has_Contractor_Notified_Schools    0\n",
       "Has_Contractor_Notified_Parents    0\n",
       "Have_You_Alerted_OPT               0\n",
       "Informed_On                        0\n",
       "Last_Updated_On                    0\n",
       "Breakdown_or_Running_Late          0\n",
       "School_Age_or_PreK                 0\n",
       "dtype: int64"
      ]
     },
     "execution_count": 12,
     "metadata": {},
     "output_type": "execute_result"
    }
   ],
   "source": [
    "df.isnull().sum()   # no missing values"
   ]
  },
  {
   "cell_type": "code",
   "execution_count": 13,
   "id": "be9c6d97",
   "metadata": {},
   "outputs": [
    {
     "data": {
      "text/plain": [
       "(141654, 20)"
      ]
     },
     "execution_count": 13,
     "metadata": {},
     "output_type": "execute_result"
    }
   ],
   "source": [
    "df.shape"
   ]
  },
  {
   "cell_type": "code",
   "execution_count": 99,
   "id": "f57cc6db",
   "metadata": {},
   "outputs": [
    {
     "data": {
      "text/plain": [
       "0"
      ]
     },
     "execution_count": 99,
     "metadata": {},
     "output_type": "execute_result"
    }
   ],
   "source": [
    "df.duplicated().sum()"
   ]
  },
  {
   "cell_type": "code",
   "execution_count": 14,
   "id": "f1dde3ba",
   "metadata": {},
   "outputs": [],
   "source": [
    "# # distribution of numeric features\n",
    "# sns.histplot(df['Number_Of_Students_On_The_Bus'], kde=True)\n",
    "# plt.show()"
   ]
  },
  {
   "cell_type": "code",
   "execution_count": 15,
   "id": "b5c37cf9",
   "metadata": {},
   "outputs": [
    {
     "data": {
      "image/png": "[encoded data removed]",
      "text/plain": [
       "<Figure size 800x600 with 1 Axes>"
      ]
     },
     "metadata": {},
     "output_type": "display_data"
    }
   ],
   "source": [
    "# Categorical feature analysis\n",
    "plt.figure(figsize=(8, 6))\n",
    "sns.countplot(df['Breakdown_or_Running_Late'])\n",
    "plt.title('Distribution of Breakdown or Running_Late')\n",
    "plt.show() #imbalanced class distribution"
   ]
  },
  {
   "cell_type": "code",
   "execution_count": 16,
   "id": "9f107339",
   "metadata": {},
   "outputs": [
    {
     "data": {
      "image/png": "[encoded data removed]",
      "text/plain": [
       "<Figure size 800x600 with 1 Axes>"
      ]
     },
     "metadata": {},
     "output_type": "display_data"
    }
   ],
   "source": [
    "plt.figure(figsize=(8, 6))\n",
    "sns.countplot(df['School_Year'])\n",
    "plt.title('Distribution of School Year')\n",
    "plt.show() "
   ]
  },
  {
   "cell_type": "code",
   "execution_count": 17,
   "id": "356e09bd",
   "metadata": {},
   "outputs": [
    {
     "data": {
      "text/html": [
       "<div>\n",
       "<style scoped>\n",
       "    .dataframe tbody tr th:only-of-type {\n",
       "        vertical-align: middle;\n",
       "    }\n",
       "\n",
       "    .dataframe tbody tr th {\n",
       "        vertical-align: top;\n",
       "    }\n",
       "\n",
       "    .dataframe thead th {\n",
       "        text-align: right;\n",
       "    }\n",
       "</style>\n",
       "<table border=\"1\" class=\"dataframe\">\n",
       "  <thead>\n",
       "    <tr style=\"text-align: right;\">\n",
       "      <th></th>\n",
       "      <th>Busbreakdown_ID</th>\n",
       "      <th>Number_Of_Students_On_The_Bus</th>\n",
       "    </tr>\n",
       "  </thead>\n",
       "  <tbody>\n",
       "    <tr>\n",
       "      <th>Busbreakdown_ID</th>\n",
       "      <td>1.000000</td>\n",
       "      <td>-0.017205</td>\n",
       "    </tr>\n",
       "    <tr>\n",
       "      <th>Number_Of_Students_On_The_Bus</th>\n",
       "      <td>-0.017205</td>\n",
       "      <td>1.000000</td>\n",
       "    </tr>\n",
       "  </tbody>\n",
       "</table>\n",
       "</div>"
      ],
      "text/plain": [
       "                               Busbreakdown_ID  Number_Of_Students_On_The_Bus\n",
       "Busbreakdown_ID                       1.000000                      -0.017205\n",
       "Number_Of_Students_On_The_Bus        -0.017205                       1.000000"
      ]
     },
     "execution_count": 17,
     "metadata": {},
     "output_type": "execute_result"
    }
   ],
   "source": [
    "#Correlation matrix\n",
    "numeric_df = df.select_dtypes(include='number')\n",
    "correlation_matrix = numeric_df.corr()\n",
    "correlation_matrix"
   ]
  },
  {
   "cell_type": "code",
   "execution_count": 18,
   "id": "d9ca0172",
   "metadata": {},
   "outputs": [],
   "source": [
    "df.drop('Busbreakdown_ID', axis=1, inplace=True)"
   ]
  },
  {
   "cell_type": "code",
   "execution_count": 19,
   "id": "9a44022f",
   "metadata": {},
   "outputs": [
    {
     "data": {
      "text/plain": [
       "<Axes: >"
      ]
     },
     "execution_count": 19,
     "metadata": {},
     "output_type": "execute_result"
    },
    {
     "data": {
      "image/png": "[encoded data removed]",
      "text/plain": [
       "<Figure size 640x480 with 1 Axes>"
      ]
     },
     "metadata": {},
     "output_type": "display_data"
    }
   ],
   "source": [
    "sns.boxplot(df)"
   ]
  },
  {
   "cell_type": "markdown",
   "id": "1a559e40",
   "metadata": {},
   "source": [
    "## Data Preprocessing\n",
    "This could include:\n",
    "\n",
    "* **Handle Missing Values**\n",
    "    * Impute missing values or drop them.\n",
    "\n",
    "* **Encode Categorical Variables**\n",
    "    * One-hot encoding\n",
    "    * Label encoding\n",
    "\n",
    "* **Scale and Normalize Data**\n",
    "    * Standardization (Z-score)\n",
    "    * Min-Max scaling\n",
    "\n",
    "* **Feature Engineering**\n",
    "    * Create new features\n",
    "    * Feature selection\n",
    "\n",
    "* **Handle Imbalanced Data**\n",
    "    * Oversampling\n",
    "    * Undersampling\n",
    "\n",
    "* **Handle Outliers**\n",
    "    * Remove outliers\n",
    "    * Transform outliers\n",
    "\n",
    "* **Remove Duplicates**\n",
    "    * Remove redundant or duplicate data\n",
    "\n",
    "\n",
    "And add more as needed!\n",
    "\n",
    "Please treat these as suggestions. Feel free to use your judgment for the rest."
   ]
  },
  {
   "cell_type": "code",
   "execution_count": 20,
   "id": "0de5af95",
   "metadata": {},
   "outputs": [
    {
     "name": "stdout",
     "output_type": "stream",
     "text": [
      "<class 'pandas.core.frame.DataFrame'>\n",
      "Index: 141654 entries, 0 to 147971\n",
      "Data columns (total 19 columns):\n",
      " #   Column                           Non-Null Count   Dtype \n",
      "---  ------                           --------------   ----- \n",
      " 0   School_Year                      141654 non-null  object\n",
      " 1   Run_Type                         141654 non-null  object\n",
      " 2   Bus_No                           141654 non-null  object\n",
      " 3   Route_Number                     141654 non-null  object\n",
      " 4   Reason                           141654 non-null  object\n",
      " 5   Schools_Serviced                 141654 non-null  object\n",
      " 6   Occurred_On                      141654 non-null  object\n",
      " 7   Created_On                       141654 non-null  object\n",
      " 8   Boro                             141654 non-null  object\n",
      " 9   Bus_Company_Name                 141654 non-null  object\n",
      " 10  How_Long_Delayed                 141654 non-null  object\n",
      " 11  Number_Of_Students_On_The_Bus    141654 non-null  int64 \n",
      " 12  Has_Contractor_Notified_Schools  141654 non-null  object\n",
      " 13  Has_Contractor_Notified_Parents  141654 non-null  object\n",
      " 14  Have_You_Alerted_OPT             141654 non-null  object\n",
      " 15  Informed_On                      141654 non-null  object\n",
      " 16  Last_Updated_On                  141654 non-null  object\n",
      " 17  Breakdown_or_Running_Late        141654 non-null  object\n",
      " 18  School_Age_or_PreK               141654 non-null  object\n",
      "dtypes: int64(1), object(18)\n",
      "memory usage: 21.6+ MB\n"
     ]
    }
   ],
   "source": [
    "df.info()"
   ]
  },
  {
   "cell_type": "code",
   "execution_count": 22,
   "id": "50c97004",
   "metadata": {},
   "outputs": [],
   "source": [
    "# feature engineering\n",
    "df['How_Long_Delayed'] = df['How_Long_Delayed'].apply(lambda x: 'More than 15 minutes' if x == 'More than 15 minutes' else 'Less than 15 minutes')"
   ]
  },
  {
   "cell_type": "code",
   "execution_count": 24,
   "id": "e6867a7c",
   "metadata": {},
   "outputs": [],
   "source": [
    "#Encoding categorical variables\n",
    "encoder = LabelEncoder()\n",
    "df[['School_Year','Run_Type','Bus_No','Route_Number','Reason','Schools_Serviced','Boro','Bus_Company_Name','How_Long_Delayed','Has_Contractor_Notified_Schools','Has_Contractor_Notified_Parents','Have_You_Alerted_OPT','Breakdown_or_Running_Late','School_Age_or_PreK']] = df[['School_Year','Run_Type','Bus_No','Route_Number','Reason','Schools_Serviced','Boro','Bus_Company_Name','How_Long_Delayed','Has_Contractor_Notified_Schools','Has_Contractor_Notified_Parents','Have_You_Alerted_OPT','Breakdown_or_Running_Late','School_Age_or_PreK']].apply(lambda x: encoder.fit_transform(x))"
   ]
  },
  {
   "cell_type": "code",
   "execution_count": 25,
   "id": "e314d8eb",
   "metadata": {},
   "outputs": [],
   "source": [
    "df.drop(['Occurred_On','Created_On','Informed_On','Last_Updated_On'], axis=1, inplace=True)"
   ]
  },
  {
   "cell_type": "code",
   "execution_count": 26,
   "id": "a4bab8c7",
   "metadata": {},
   "outputs": [],
   "source": [
    "# Scaling \n",
    "scaler = StandardScaler()\n",
    "\n",
    "df[['Number_Of_Students_On_The_Bus']] = scaler.fit_transform(df[['Number_Of_Students_On_The_Bus']])"
   ]
  },
  {
   "cell_type": "code",
   "execution_count": 27,
   "id": "4f3ce4fa",
   "metadata": {},
   "outputs": [],
   "source": [
    "# Handling imbalanced class distribution\n",
    "X = df.drop('Breakdown_or_Running_Late', axis=1)\n",
    "y = df['Breakdown_or_Running_Late']\n",
    "\n",
    "smote = SMOTE(sampling_strategy='minority', k_neighbors=1)\n",
    "X_sm, y_sm = smote.fit_resample(X, y)"
   ]
  },
  {
   "cell_type": "code",
   "execution_count": 29,
   "id": "120ada29",
   "metadata": {},
   "outputs": [
    {
     "data": {
      "text/html": [
       "<div>\n",
       "<style scoped>\n",
       "    .dataframe tbody tr th:only-of-type {\n",
       "        vertical-align: middle;\n",
       "    }\n",
       "\n",
       "    .dataframe tbody tr th {\n",
       "        vertical-align: top;\n",
       "    }\n",
       "\n",
       "    .dataframe thead th {\n",
       "        text-align: right;\n",
       "    }\n",
       "</style>\n",
       "<table border=\"1\" class=\"dataframe\">\n",
       "  <thead>\n",
       "    <tr style=\"text-align: right;\">\n",
       "      <th></th>\n",
       "      <th>School_Year</th>\n",
       "      <th>Run_Type</th>\n",
       "      <th>Bus_No</th>\n",
       "      <th>Route_Number</th>\n",
       "      <th>Reason</th>\n",
       "      <th>Schools_Serviced</th>\n",
       "      <th>Boro</th>\n",
       "      <th>Bus_Company_Name</th>\n",
       "      <th>How_Long_Delayed</th>\n",
       "      <th>Number_Of_Students_On_The_Bus</th>\n",
       "      <th>Has_Contractor_Notified_Schools</th>\n",
       "      <th>Has_Contractor_Notified_Parents</th>\n",
       "      <th>Have_You_Alerted_OPT</th>\n",
       "      <th>School_Age_or_PreK</th>\n",
       "      <th>Breakdown_or_Running_Late</th>\n",
       "    </tr>\n",
       "  </thead>\n",
       "  <tbody>\n",
       "    <tr>\n",
       "      <th>0</th>\n",
       "      <td>0</td>\n",
       "      <td>3</td>\n",
       "      <td>7414</td>\n",
       "      <td>77</td>\n",
       "      <td>6</td>\n",
       "      <td>4988</td>\n",
       "      <td>1</td>\n",
       "      <td>27</td>\n",
       "      <td>0</td>\n",
       "      <td>0.024857</td>\n",
       "      <td>1</td>\n",
       "      <td>1</td>\n",
       "      <td>0</td>\n",
       "      <td>0</td>\n",
       "      <td>1</td>\n",
       "    </tr>\n",
       "    <tr>\n",
       "      <th>1</th>\n",
       "      <td>0</td>\n",
       "      <td>3</td>\n",
       "      <td>8042</td>\n",
       "      <td>77</td>\n",
       "      <td>3</td>\n",
       "      <td>5056</td>\n",
       "      <td>1</td>\n",
       "      <td>27</td>\n",
       "      <td>0</td>\n",
       "      <td>-0.011120</td>\n",
       "      <td>1</td>\n",
       "      <td>1</td>\n",
       "      <td>0</td>\n",
       "      <td>0</td>\n",
       "      <td>1</td>\n",
       "    </tr>\n",
       "    <tr>\n",
       "      <th>2</th>\n",
       "      <td>0</td>\n",
       "      <td>3</td>\n",
       "      <td>4619</td>\n",
       "      <td>209</td>\n",
       "      <td>3</td>\n",
       "      <td>4954</td>\n",
       "      <td>1</td>\n",
       "      <td>27</td>\n",
       "      <td>0</td>\n",
       "      <td>0.150779</td>\n",
       "      <td>1</td>\n",
       "      <td>1</td>\n",
       "      <td>1</td>\n",
       "      <td>0</td>\n",
       "      <td>1</td>\n",
       "    </tr>\n",
       "    <tr>\n",
       "      <th>3</th>\n",
       "      <td>0</td>\n",
       "      <td>3</td>\n",
       "      <td>4507</td>\n",
       "      <td>209</td>\n",
       "      <td>6</td>\n",
       "      <td>4953</td>\n",
       "      <td>1</td>\n",
       "      <td>27</td>\n",
       "      <td>0</td>\n",
       "      <td>0.132790</td>\n",
       "      <td>1</td>\n",
       "      <td>1</td>\n",
       "      <td>1</td>\n",
       "      <td>0</td>\n",
       "      <td>1</td>\n",
       "    </tr>\n",
       "    <tr>\n",
       "      <th>4</th>\n",
       "      <td>0</td>\n",
       "      <td>3</td>\n",
       "      <td>4514</td>\n",
       "      <td>209</td>\n",
       "      <td>6</td>\n",
       "      <td>5134</td>\n",
       "      <td>1</td>\n",
       "      <td>27</td>\n",
       "      <td>0</td>\n",
       "      <td>0.150779</td>\n",
       "      <td>1</td>\n",
       "      <td>1</td>\n",
       "      <td>0</td>\n",
       "      <td>0</td>\n",
       "      <td>1</td>\n",
       "    </tr>\n",
       "    <tr>\n",
       "      <th>...</th>\n",
       "      <td>...</td>\n",
       "      <td>...</td>\n",
       "      <td>...</td>\n",
       "      <td>...</td>\n",
       "      <td>...</td>\n",
       "      <td>...</td>\n",
       "      <td>...</td>\n",
       "      <td>...</td>\n",
       "      <td>...</td>\n",
       "      <td>...</td>\n",
       "      <td>...</td>\n",
       "      <td>...</td>\n",
       "      <td>...</td>\n",
       "      <td>...</td>\n",
       "      <td>...</td>\n",
       "    </tr>\n",
       "    <tr>\n",
       "      <th>250123</th>\n",
       "      <td>0</td>\n",
       "      <td>9</td>\n",
       "      <td>9624</td>\n",
       "      <td>1181</td>\n",
       "      <td>6</td>\n",
       "      <td>3142</td>\n",
       "      <td>2</td>\n",
       "      <td>57</td>\n",
       "      <td>0</td>\n",
       "      <td>-0.065087</td>\n",
       "      <td>1</td>\n",
       "      <td>1</td>\n",
       "      <td>0</td>\n",
       "      <td>1</td>\n",
       "      <td>0</td>\n",
       "    </tr>\n",
       "    <tr>\n",
       "      <th>250124</th>\n",
       "      <td>0</td>\n",
       "      <td>7</td>\n",
       "      <td>3127</td>\n",
       "      <td>1220</td>\n",
       "      <td>2</td>\n",
       "      <td>2971</td>\n",
       "      <td>2</td>\n",
       "      <td>30</td>\n",
       "      <td>0</td>\n",
       "      <td>0.023391</td>\n",
       "      <td>0</td>\n",
       "      <td>1</td>\n",
       "      <td>0</td>\n",
       "      <td>1</td>\n",
       "      <td>0</td>\n",
       "    </tr>\n",
       "    <tr>\n",
       "      <th>250125</th>\n",
       "      <td>0</td>\n",
       "      <td>7</td>\n",
       "      <td>3623</td>\n",
       "      <td>3549</td>\n",
       "      <td>5</td>\n",
       "      <td>3241</td>\n",
       "      <td>3</td>\n",
       "      <td>70</td>\n",
       "      <td>0</td>\n",
       "      <td>-0.012644</td>\n",
       "      <td>1</td>\n",
       "      <td>1</td>\n",
       "      <td>1</td>\n",
       "      <td>1</td>\n",
       "      <td>0</td>\n",
       "    </tr>\n",
       "    <tr>\n",
       "      <th>250126</th>\n",
       "      <td>0</td>\n",
       "      <td>7</td>\n",
       "      <td>7958</td>\n",
       "      <td>4479</td>\n",
       "      <td>2</td>\n",
       "      <td>670</td>\n",
       "      <td>4</td>\n",
       "      <td>39</td>\n",
       "      <td>0</td>\n",
       "      <td>-0.065087</td>\n",
       "      <td>1</td>\n",
       "      <td>1</td>\n",
       "      <td>1</td>\n",
       "      <td>1</td>\n",
       "      <td>0</td>\n",
       "    </tr>\n",
       "    <tr>\n",
       "      <th>250127</th>\n",
       "      <td>0</td>\n",
       "      <td>9</td>\n",
       "      <td>7423</td>\n",
       "      <td>6907</td>\n",
       "      <td>9</td>\n",
       "      <td>3640</td>\n",
       "      <td>7</td>\n",
       "      <td>47</td>\n",
       "      <td>0</td>\n",
       "      <td>-0.065087</td>\n",
       "      <td>1</td>\n",
       "      <td>0</td>\n",
       "      <td>0</td>\n",
       "      <td>1</td>\n",
       "      <td>0</td>\n",
       "    </tr>\n",
       "  </tbody>\n",
       "</table>\n",
       "<p>250128 rows × 15 columns</p>\n",
       "</div>"
      ],
      "text/plain": [
       "        School_Year  Run_Type  Bus_No  Route_Number  Reason  Schools_Serviced  \\\n",
       "0                 0         3    7414            77       6              4988   \n",
       "1                 0         3    8042            77       3              5056   \n",
       "2                 0         3    4619           209       3              4954   \n",
       "3                 0         3    4507           209       6              4953   \n",
       "4                 0         3    4514           209       6              5134   \n",
       "...             ...       ...     ...           ...     ...               ...   \n",
       "250123            0         9    9624          1181       6              3142   \n",
       "250124            0         7    3127          1220       2              2971   \n",
       "250125            0         7    3623          3549       5              3241   \n",
       "250126            0         7    7958          4479       2               670   \n",
       "250127            0         9    7423          6907       9              3640   \n",
       "\n",
       "        Boro  Bus_Company_Name  How_Long_Delayed  \\\n",
       "0          1                27                 0   \n",
       "1          1                27                 0   \n",
       "2          1                27                 0   \n",
       "3          1                27                 0   \n",
       "4          1                27                 0   \n",
       "...      ...               ...               ...   \n",
       "250123     2                57                 0   \n",
       "250124     2                30                 0   \n",
       "250125     3                70                 0   \n",
       "250126     4                39                 0   \n",
       "250127     7                47                 0   \n",
       "\n",
       "        Number_Of_Students_On_The_Bus  Has_Contractor_Notified_Schools  \\\n",
       "0                            0.024857                                1   \n",
       "1                           -0.011120                                1   \n",
       "2                            0.150779                                1   \n",
       "3                            0.132790                                1   \n",
       "4                            0.150779                                1   \n",
       "...                               ...                              ...   \n",
       "250123                      -0.065087                                1   \n",
       "250124                       0.023391                                0   \n",
       "250125                      -0.012644                                1   \n",
       "250126                      -0.065087                                1   \n",
       "250127                      -0.065087                                1   \n",
       "\n",
       "        Has_Contractor_Notified_Parents  Have_You_Alerted_OPT  \\\n",
       "0                                     1                     0   \n",
       "1                                     1                     0   \n",
       "2                                     1                     1   \n",
       "3                                     1                     1   \n",
       "4                                     1                     0   \n",
       "...                                 ...                   ...   \n",
       "250123                                1                     0   \n",
       "250124                                1                     0   \n",
       "250125                                1                     1   \n",
       "250126                                1                     1   \n",
       "250127                                0                     0   \n",
       "\n",
       "        School_Age_or_PreK  Breakdown_or_Running_Late  \n",
       "0                        0                          1  \n",
       "1                        0                          1  \n",
       "2                        0                          1  \n",
       "3                        0                          1  \n",
       "4                        0                          1  \n",
       "...                    ...                        ...  \n",
       "250123                   1                          0  \n",
       "250124                   1                          0  \n",
       "250125                   1                          0  \n",
       "250126                   1                          0  \n",
       "250127                   1                          0  \n",
       "\n",
       "[250128 rows x 15 columns]"
      ]
     },
     "execution_count": 29,
     "metadata": {},
     "output_type": "execute_result"
    }
   ],
   "source": [
    "df = pd.concat([X_sm, y_sm], axis=1)\n",
    "df"
   ]
  },
  {
   "cell_type": "markdown",
   "id": "bc887660",
   "metadata": {},
   "source": [
    "## Split the Dataset\n",
    "Next, split the dataset into training, validation, and testing sets."
   ]
  },
  {
   "cell_type": "code",
   "execution_count": 30,
   "id": "fa5bbfd5",
   "metadata": {},
   "outputs": [],
   "source": [
    "# Splitting the dataset\n",
    "X_train, X_test, y_train, y_test = train_test_split(X_sm, y_sm, test_size=0.2, random_state=42)"
   ]
  },
  {
   "cell_type": "code",
   "execution_count": 31,
   "id": "12bb4620",
   "metadata": {},
   "outputs": [
    {
     "data": {
      "text/plain": [
       "((200102, 14), (50026, 14), (200102,), (50026,))"
      ]
     },
     "execution_count": 31,
     "metadata": {},
     "output_type": "execute_result"
    }
   ],
   "source": [
    "X_train.shape, X_test.shape, y_train.shape, y_test.shape"
   ]
  },
  {
   "cell_type": "markdown",
   "id": "7119b7d7",
   "metadata": {},
   "source": [
    "## Building the ANN Model\n",
    "In this section, define the architecture of the ANN by specifying the number of layers, neurons, and activation functions."
   ]
  },
  {
   "cell_type": "code",
   "execution_count": 33,
   "id": "8532b3b9",
   "metadata": {},
   "outputs": [],
   "source": [
    "model = Sequential()\n",
    "\n",
    "# input layer\n",
    "model.add(Dense(units=14, input_dim=X_train.shape[1], kernel_initializer='uniform',activation='relu'))\n",
    "\n",
    "# hidden layers\n",
    "model.add(Dense(units=6, activation='relu'))\n",
    "model.add(Dense(units=6, activation='relu'))\n",
    "\n",
    "# output layer\n",
    "model.add(Dense(units=1, activation='sigmoid'))"
   ]
  },
  {
   "cell_type": "code",
   "execution_count": 34,
   "id": "c3f8a7dd",
   "metadata": {},
   "outputs": [
    {
     "data": {
      "text/html": [
       "<pre style=\"white-space:pre;overflow-x:auto;line-height:normal;font-family:Menlo,'DejaVu Sans Mono',consolas,'Courier New',monospace\"><span style=\"font-weight: bold\">Model: \"sequential_1\"</span>\n",
       "</pre>\n"
      ],
      "text/plain": [
       "\u001b[1mModel: \"sequential_1\"\u001b[0m\n"
      ]
     },
     "metadata": {},
     "output_type": "display_data"
    },
    {
     "data": {
      "text/html": [
       "<pre style=\"white-space:pre;overflow-x:auto;line-height:normal;font-family:Menlo,'DejaVu Sans Mono',consolas,'Courier New',monospace\">┏━━━━━━━━━━━━━━━━━━━━━━━━━━━━━━━━━┳━━━━━━━━━━━━━━━━━━━━━━━━┳━━━━━━━━━━━━━━━┓\n",
       "┃<span style=\"font-weight: bold\"> Layer (type)                    </span>┃<span style=\"font-weight: bold\"> Output Shape           </span>┃<span style=\"font-weight: bold\">       Param # </span>┃\n",
       "┡━━━━━━━━━━━━━━━━━━━━━━━━━━━━━━━━━╇━━━━━━━━━━━━━━━━━━━━━━━━╇━━━━━━━━━━━━━━━┩\n",
       "│ dense_4 (<span style=\"color: #0087ff; text-decoration-color: #0087ff\">Dense</span>)                 │ (<span style=\"color: #00d7ff; text-decoration-color: #00d7ff\">None</span>, <span style=\"color: #00af00; text-decoration-color: #00af00\">14</span>)             │           <span style=\"color: #00af00; text-decoration-color: #00af00\">210</span> │\n",
       "├─────────────────────────────────┼────────────────────────┼───────────────┤\n",
       "│ dense_5 (<span style=\"color: #0087ff; text-decoration-color: #0087ff\">Dense</span>)                 │ (<span style=\"color: #00d7ff; text-decoration-color: #00d7ff\">None</span>, <span style=\"color: #00af00; text-decoration-color: #00af00\">6</span>)              │            <span style=\"color: #00af00; text-decoration-color: #00af00\">90</span> │\n",
       "├─────────────────────────────────┼────────────────────────┼───────────────┤\n",
       "│ dense_6 (<span style=\"color: #0087ff; text-decoration-color: #0087ff\">Dense</span>)                 │ (<span style=\"color: #00d7ff; text-decoration-color: #00d7ff\">None</span>, <span style=\"color: #00af00; text-decoration-color: #00af00\">6</span>)              │            <span style=\"color: #00af00; text-decoration-color: #00af00\">42</span> │\n",
       "├─────────────────────────────────┼────────────────────────┼───────────────┤\n",
       "│ dense_7 (<span style=\"color: #0087ff; text-decoration-color: #0087ff\">Dense</span>)                 │ (<span style=\"color: #00d7ff; text-decoration-color: #00d7ff\">None</span>, <span style=\"color: #00af00; text-decoration-color: #00af00\">1</span>)              │             <span style=\"color: #00af00; text-decoration-color: #00af00\">7</span> │\n",
       "└─────────────────────────────────┴────────────────────────┴───────────────┘\n",
       "</pre>\n"
      ],
      "text/plain": [
       "┏━━━━━━━━━━━━━━━━━━━━━━━━━━━━━━━━━┳━━━━━━━━━━━━━━━━━━━━━━━━┳━━━━━━━━━━━━━━━┓\n",
       "┃\u001b[1m \u001b[0m\u001b[1mLayer (type)                   \u001b[0m\u001b[1m \u001b[0m┃\u001b[1m \u001b[0m\u001b[1mOutput Shape          \u001b[0m\u001b[1m \u001b[0m┃\u001b[1m \u001b[0m\u001b[1m      Param #\u001b[0m\u001b[1m \u001b[0m┃\n",
       "┡━━━━━━━━━━━━━━━━━━━━━━━━━━━━━━━━━╇━━━━━━━━━━━━━━━━━━━━━━━━╇━━━━━━━━━━━━━━━┩\n",
       "│ dense_4 (\u001b[38;5;33mDense\u001b[0m)                 │ (\u001b[38;5;45mNone\u001b[0m, \u001b[38;5;34m14\u001b[0m)             │           \u001b[38;5;34m210\u001b[0m │\n",
       "├─────────────────────────────────┼────────────────────────┼───────────────┤\n",
       "│ dense_5 (\u001b[38;5;33mDense\u001b[0m)                 │ (\u001b[38;5;45mNone\u001b[0m, \u001b[38;5;34m6\u001b[0m)              │            \u001b[38;5;34m90\u001b[0m │\n",
       "├─────────────────────────────────┼────────────────────────┼───────────────┤\n",
       "│ dense_6 (\u001b[38;5;33mDense\u001b[0m)                 │ (\u001b[38;5;45mNone\u001b[0m, \u001b[38;5;34m6\u001b[0m)              │            \u001b[38;5;34m42\u001b[0m │\n",
       "├─────────────────────────────────┼────────────────────────┼───────────────┤\n",
       "│ dense_7 (\u001b[38;5;33mDense\u001b[0m)                 │ (\u001b[38;5;45mNone\u001b[0m, \u001b[38;5;34m1\u001b[0m)              │             \u001b[38;5;34m7\u001b[0m │\n",
       "└─────────────────────────────────┴────────────────────────┴───────────────┘\n"
      ]
     },
     "metadata": {},
     "output_type": "display_data"
    },
    {
     "data": {
      "text/html": [
       "<pre style=\"white-space:pre;overflow-x:auto;line-height:normal;font-family:Menlo,'DejaVu Sans Mono',consolas,'Courier New',monospace\"><span style=\"font-weight: bold\"> Total params: </span><span style=\"color: #00af00; text-decoration-color: #00af00\">349</span> (1.36 KB)\n",
       "</pre>\n"
      ],
      "text/plain": [
       "\u001b[1m Total params: \u001b[0m\u001b[38;5;34m349\u001b[0m (1.36 KB)\n"
      ]
     },
     "metadata": {},
     "output_type": "display_data"
    },
    {
     "data": {
      "text/html": [
       "<pre style=\"white-space:pre;overflow-x:auto;line-height:normal;font-family:Menlo,'DejaVu Sans Mono',consolas,'Courier New',monospace\"><span style=\"font-weight: bold\"> Trainable params: </span><span style=\"color: #00af00; text-decoration-color: #00af00\">349</span> (1.36 KB)\n",
       "</pre>\n"
      ],
      "text/plain": [
       "\u001b[1m Trainable params: \u001b[0m\u001b[38;5;34m349\u001b[0m (1.36 KB)\n"
      ]
     },
     "metadata": {},
     "output_type": "display_data"
    },
    {
     "data": {
      "text/html": [
       "<pre style=\"white-space:pre;overflow-x:auto;line-height:normal;font-family:Menlo,'DejaVu Sans Mono',consolas,'Courier New',monospace\"><span style=\"font-weight: bold\"> Non-trainable params: </span><span style=\"color: #00af00; text-decoration-color: #00af00\">0</span> (0.00 B)\n",
       "</pre>\n"
      ],
      "text/plain": [
       "\u001b[1m Non-trainable params: \u001b[0m\u001b[38;5;34m0\u001b[0m (0.00 B)\n"
      ]
     },
     "metadata": {},
     "output_type": "display_data"
    }
   ],
   "source": [
    "model.summary()"
   ]
  },
  {
   "cell_type": "markdown",
   "id": "ac5e52e1",
   "metadata": {},
   "source": [
    "## Compile the Model\n",
    "Compile the ANN model by defining the optimizer, loss function, and evaluation metrics."
   ]
  },
  {
   "cell_type": "code",
   "execution_count": null,
   "id": "0468071f",
   "metadata": {},
   "outputs": [],
   "source": [
    "#optimizer = Adam(learning_rate=0.01)"
   ]
  },
  {
   "cell_type": "code",
   "execution_count": 35,
   "id": "ab363be3",
   "metadata": {},
   "outputs": [],
   "source": [
    "model.compile(optimizer='adam', loss='binary_crossentropy', metrics=['accuracy'])"
   ]
  },
  {
   "cell_type": "markdown",
   "id": "e9a72223",
   "metadata": {},
   "source": [
    "## Training the Model\n",
    "Train the ANN model using the training data."
   ]
  },
  {
   "cell_type": "code",
   "execution_count": 38,
   "id": "424b61c8",
   "metadata": {},
   "outputs": [],
   "source": [
    "early_stopping = EarlyStopping(patience=10, monitor='val_loss' ,restore_best_weights=True)"
   ]
  },
  {
   "cell_type": "code",
   "execution_count": 39,
   "id": "e43fedab",
   "metadata": {},
   "outputs": [
    {
     "name": "stdout",
     "output_type": "stream",
     "text": [
      "Epoch 1/50\n",
      "\u001b[1m2502/2502\u001b[0m \u001b[32m━━━━━━━━━━━━━━━━━━━━\u001b[0m\u001b[37m\u001b[0m \u001b[1m9s\u001b[0m 4ms/step - accuracy: 0.6193 - loss: 0.6374 - val_accuracy: 0.6273 - val_loss: 0.6328\n",
      "Epoch 2/50\n",
      "\u001b[1m2502/2502\u001b[0m \u001b[32m━━━━━━━━━━━━━━━━━━━━\u001b[0m\u001b[37m\u001b[0m \u001b[1m9s\u001b[0m 4ms/step - accuracy: 0.6286 - loss: 0.6308 - val_accuracy: 0.6218 - val_loss: 0.6344\n",
      "Epoch 3/50\n",
      "\u001b[1m2502/2502\u001b[0m \u001b[32m━━━━━━━━━━━━━━━━━━━━\u001b[0m\u001b[37m\u001b[0m \u001b[1m9s\u001b[0m 4ms/step - accuracy: 0.6316 - loss: 0.6305 - val_accuracy: 0.6418 - val_loss: 0.6265\n",
      "Epoch 4/50\n",
      "\u001b[1m2502/2502\u001b[0m \u001b[32m━━━━━━━━━━━━━━━━━━━━\u001b[0m\u001b[37m\u001b[0m \u001b[1m9s\u001b[0m 4ms/step - accuracy: 0.6405 - loss: 0.6267 - val_accuracy: 0.6462 - val_loss: 0.6237\n",
      "Epoch 5/50\n",
      "\u001b[1m2502/2502\u001b[0m \u001b[32m━━━━━━━━━━━━━━━━━━━━\u001b[0m\u001b[37m\u001b[0m \u001b[1m9s\u001b[0m 4ms/step - accuracy: 0.6399 - loss: 0.6265 - val_accuracy: 0.6338 - val_loss: 0.6285\n",
      "Epoch 6/50\n",
      "\u001b[1m2502/2502\u001b[0m \u001b[32m━━━━━━━━━━━━━━━━━━━━\u001b[0m\u001b[37m\u001b[0m \u001b[1m8s\u001b[0m 3ms/step - accuracy: 0.6346 - loss: 0.6292 - val_accuracy: 0.6549 - val_loss: 0.6204\n",
      "Epoch 7/50\n",
      "\u001b[1m2502/2502\u001b[0m \u001b[32m━━━━━━━━━━━━━━━━━━━━\u001b[0m\u001b[37m\u001b[0m \u001b[1m10s\u001b[0m 4ms/step - accuracy: 0.6417 - loss: 0.6262 - val_accuracy: 0.6352 - val_loss: 0.6291\n",
      "Epoch 8/50\n",
      "\u001b[1m2502/2502\u001b[0m \u001b[32m━━━━━━━━━━━━━━━━━━━━\u001b[0m\u001b[37m\u001b[0m \u001b[1m9s\u001b[0m 4ms/step - accuracy: 0.6481 - loss: 0.6224 - val_accuracy: 0.6263 - val_loss: 0.6330\n",
      "Epoch 9/50\n",
      "\u001b[1m2502/2502\u001b[0m \u001b[32m━━━━━━━━━━━━━━━━━━━━\u001b[0m\u001b[37m\u001b[0m \u001b[1m9s\u001b[0m 4ms/step - accuracy: 0.6424 - loss: 0.6255 - val_accuracy: 0.6315 - val_loss: 0.6300\n",
      "Epoch 10/50\n",
      "\u001b[1m2502/2502\u001b[0m \u001b[32m━━━━━━━━━━━━━━━━━━━━\u001b[0m\u001b[37m\u001b[0m \u001b[1m10s\u001b[0m 4ms/step - accuracy: 0.6494 - loss: 0.6210 - val_accuracy: 0.6145 - val_loss: 0.6417\n",
      "Epoch 11/50\n",
      "\u001b[1m2502/2502\u001b[0m \u001b[32m━━━━━━━━━━━━━━━━━━━━\u001b[0m\u001b[37m\u001b[0m \u001b[1m9s\u001b[0m 3ms/step - accuracy: 0.6383 - loss: 0.6265 - val_accuracy: 0.6484 - val_loss: 0.6233\n",
      "Epoch 12/50\n",
      "\u001b[1m2502/2502\u001b[0m \u001b[32m━━━━━━━━━━━━━━━━━━━━\u001b[0m\u001b[37m\u001b[0m \u001b[1m9s\u001b[0m 3ms/step - accuracy: 0.6492 - loss: 0.6215 - val_accuracy: 0.6385 - val_loss: 0.6270\n",
      "Epoch 13/50\n",
      "\u001b[1m2502/2502\u001b[0m \u001b[32m━━━━━━━━━━━━━━━━━━━━\u001b[0m\u001b[37m\u001b[0m \u001b[1m8s\u001b[0m 3ms/step - accuracy: 0.6486 - loss: 0.6225 - val_accuracy: 0.6359 - val_loss: 0.6280\n",
      "Epoch 14/50\n",
      "\u001b[1m2502/2502\u001b[0m \u001b[32m━━━━━━━━━━━━━━━━━━━━\u001b[0m\u001b[37m\u001b[0m \u001b[1m9s\u001b[0m 4ms/step - accuracy: 0.6479 - loss: 0.6230 - val_accuracy: 0.6387 - val_loss: 0.6316\n",
      "Epoch 15/50\n",
      "\u001b[1m2502/2502\u001b[0m \u001b[32m━━━━━━━━━━━━━━━━━━━━\u001b[0m\u001b[37m\u001b[0m \u001b[1m9s\u001b[0m 4ms/step - accuracy: 0.6552 - loss: 0.6184 - val_accuracy: 0.6633 - val_loss: 0.6142\n",
      "Epoch 16/50\n",
      "\u001b[1m2502/2502\u001b[0m \u001b[32m━━━━━━━━━━━━━━━━━━━━\u001b[0m\u001b[37m\u001b[0m \u001b[1m9s\u001b[0m 4ms/step - accuracy: 0.6559 - loss: 0.6174 - val_accuracy: 0.6534 - val_loss: 0.6175\n",
      "Epoch 17/50\n",
      "\u001b[1m2502/2502\u001b[0m \u001b[32m━━━━━━━━━━━━━━━━━━━━\u001b[0m\u001b[37m\u001b[0m \u001b[1m9s\u001b[0m 3ms/step - accuracy: 0.6536 - loss: 0.6196 - val_accuracy: 0.6213 - val_loss: 0.6285\n",
      "Epoch 18/50\n",
      "\u001b[1m2502/2502\u001b[0m \u001b[32m━━━━━━━━━━━━━━━━━━━━\u001b[0m\u001b[37m\u001b[0m \u001b[1m8s\u001b[0m 3ms/step - accuracy: 0.6514 - loss: 0.6211 - val_accuracy: 0.6610 - val_loss: 0.6160\n",
      "Epoch 19/50\n",
      "\u001b[1m2502/2502\u001b[0m \u001b[32m━━━━━━━━━━━━━━━━━━━━\u001b[0m\u001b[37m\u001b[0m \u001b[1m9s\u001b[0m 3ms/step - accuracy: 0.6518 - loss: 0.6201 - val_accuracy: 0.6665 - val_loss: 0.6157\n",
      "Epoch 20/50\n",
      "\u001b[1m2502/2502\u001b[0m \u001b[32m━━━━━━━━━━━━━━━━━━━━\u001b[0m\u001b[37m\u001b[0m \u001b[1m8s\u001b[0m 3ms/step - accuracy: 0.6555 - loss: 0.6168 - val_accuracy: 0.6449 - val_loss: 0.6164\n",
      "Epoch 21/50\n",
      "\u001b[1m2502/2502\u001b[0m \u001b[32m━━━━━━━━━━━━━━━━━━━━\u001b[0m\u001b[37m\u001b[0m \u001b[1m9s\u001b[0m 4ms/step - accuracy: 0.6576 - loss: 0.6152 - val_accuracy: 0.6634 - val_loss: 0.6129\n",
      "Epoch 22/50\n",
      "\u001b[1m2502/2502\u001b[0m \u001b[32m━━━━━━━━━━━━━━━━━━━━\u001b[0m\u001b[37m\u001b[0m \u001b[1m9s\u001b[0m 4ms/step - accuracy: 0.6584 - loss: 0.6164 - val_accuracy: 0.6388 - val_loss: 0.6238\n",
      "Epoch 23/50\n",
      "\u001b[1m2502/2502\u001b[0m \u001b[32m━━━━━━━━━━━━━━━━━━━━\u001b[0m\u001b[37m\u001b[0m \u001b[1m9s\u001b[0m 3ms/step - accuracy: 0.6537 - loss: 0.6181 - val_accuracy: 0.6654 - val_loss: 0.6107\n",
      "Epoch 24/50\n",
      "\u001b[1m2502/2502\u001b[0m \u001b[32m━━━━━━━━━━━━━━━━━━━━\u001b[0m\u001b[37m\u001b[0m \u001b[1m8s\u001b[0m 3ms/step - accuracy: 0.6453 - loss: 0.6232 - val_accuracy: 0.6613 - val_loss: 0.6136\n",
      "Epoch 25/50\n",
      "\u001b[1m2502/2502\u001b[0m \u001b[32m━━━━━━━━━━━━━━━━━━━━\u001b[0m\u001b[37m\u001b[0m \u001b[1m9s\u001b[0m 4ms/step - accuracy: 0.6600 - loss: 0.6157 - val_accuracy: 0.6701 - val_loss: 0.6063\n",
      "Epoch 26/50\n",
      "\u001b[1m2502/2502\u001b[0m \u001b[32m━━━━━━━━━━━━━━━━━━━━\u001b[0m\u001b[37m\u001b[0m \u001b[1m8s\u001b[0m 3ms/step - accuracy: 0.6651 - loss: 0.6092 - val_accuracy: 0.6129 - val_loss: 0.6400\n",
      "Epoch 27/50\n",
      "\u001b[1m2502/2502\u001b[0m \u001b[32m━━━━━━━━━━━━━━━━━━━━\u001b[0m\u001b[37m\u001b[0m \u001b[1m9s\u001b[0m 4ms/step - accuracy: 0.6611 - loss: 0.6127 - val_accuracy: 0.6710 - val_loss: 0.6077\n",
      "Epoch 28/50\n",
      "\u001b[1m2502/2502\u001b[0m \u001b[32m━━━━━━━━━━━━━━━━━━━━\u001b[0m\u001b[37m\u001b[0m \u001b[1m9s\u001b[0m 4ms/step - accuracy: 0.6538 - loss: 0.6177 - val_accuracy: 0.6400 - val_loss: 0.6323\n",
      "Epoch 29/50\n",
      "\u001b[1m2502/2502\u001b[0m \u001b[32m━━━━━━━━━━━━━━━━━━━━\u001b[0m\u001b[37m\u001b[0m \u001b[1m9s\u001b[0m 3ms/step - accuracy: 0.6516 - loss: 0.6184 - val_accuracy: 0.6580 - val_loss: 0.6171\n",
      "Epoch 30/50\n",
      "\u001b[1m2502/2502\u001b[0m \u001b[32m━━━━━━━━━━━━━━━━━━━━\u001b[0m\u001b[37m\u001b[0m \u001b[1m9s\u001b[0m 4ms/step - accuracy: 0.6565 - loss: 0.6163 - val_accuracy: 0.6518 - val_loss: 0.6199\n",
      "Epoch 31/50\n",
      "\u001b[1m2502/2502\u001b[0m \u001b[32m━━━━━━━━━━━━━━━━━━━━\u001b[0m\u001b[37m\u001b[0m \u001b[1m12s\u001b[0m 5ms/step - accuracy: 0.6581 - loss: 0.6146 - val_accuracy: 0.6700 - val_loss: 0.6077\n",
      "Epoch 32/50\n",
      "\u001b[1m2502/2502\u001b[0m \u001b[32m━━━━━━━━━━━━━━━━━━━━\u001b[0m\u001b[37m\u001b[0m \u001b[1m8s\u001b[0m 3ms/step - accuracy: 0.6655 - loss: 0.6091 - val_accuracy: 0.6763 - val_loss: 0.6036\n",
      "Epoch 33/50\n",
      "\u001b[1m2502/2502\u001b[0m \u001b[32m━━━━━━━━━━━━━━━━━━━━\u001b[0m\u001b[37m\u001b[0m \u001b[1m9s\u001b[0m 4ms/step - accuracy: 0.6644 - loss: 0.6089 - val_accuracy: 0.6750 - val_loss: 0.6033\n",
      "Epoch 34/50\n",
      "\u001b[1m2502/2502\u001b[0m \u001b[32m━━━━━━━━━━━━━━━━━━━━\u001b[0m\u001b[37m\u001b[0m \u001b[1m8s\u001b[0m 3ms/step - accuracy: 0.6571 - loss: 0.6111 - val_accuracy: 0.6502 - val_loss: 0.6039\n",
      "Epoch 35/50\n",
      "\u001b[1m2502/2502\u001b[0m \u001b[32m━━━━━━━━━━━━━━━━━━━━\u001b[0m\u001b[37m\u001b[0m \u001b[1m10s\u001b[0m 4ms/step - accuracy: 0.6633 - loss: 0.6051 - val_accuracy: 0.6714 - val_loss: 0.6189\n",
      "Epoch 36/50\n",
      "\u001b[1m2502/2502\u001b[0m \u001b[32m━━━━━━━━━━━━━━━━━━━━\u001b[0m\u001b[37m\u001b[0m \u001b[1m11s\u001b[0m 5ms/step - accuracy: 0.6767 - loss: 0.6020 - val_accuracy: 0.7027 - val_loss: 0.5866\n",
      "Epoch 37/50\n",
      "\u001b[1m2502/2502\u001b[0m \u001b[32m━━━━━━━━━━━━━━━━━━━━\u001b[0m\u001b[37m\u001b[0m \u001b[1m9s\u001b[0m 4ms/step - accuracy: 0.6875 - loss: 0.5945 - val_accuracy: 0.7189 - val_loss: 0.5666\n",
      "Epoch 38/50\n",
      "\u001b[1m2502/2502\u001b[0m \u001b[32m━━━━━━━━━━━━━━━━━━━━\u001b[0m\u001b[37m\u001b[0m \u001b[1m9s\u001b[0m 3ms/step - accuracy: 0.7131 - loss: 0.5689 - val_accuracy: 0.7057 - val_loss: 0.5656\n",
      "Epoch 39/50\n",
      "\u001b[1m2502/2502\u001b[0m \u001b[32m━━━━━━━━━━━━━━━━━━━━\u001b[0m\u001b[37m\u001b[0m \u001b[1m9s\u001b[0m 3ms/step - accuracy: 0.6976 - loss: 0.5813 - val_accuracy: 0.7174 - val_loss: 0.5759\n",
      "Epoch 40/50\n",
      "\u001b[1m2502/2502\u001b[0m \u001b[32m━━━━━━━━━━━━━━━━━━━━\u001b[0m\u001b[37m\u001b[0m \u001b[1m9s\u001b[0m 4ms/step - accuracy: 0.7093 - loss: 0.5744 - val_accuracy: 0.7196 - val_loss: 0.5582\n",
      "Epoch 41/50\n",
      "\u001b[1m2502/2502\u001b[0m \u001b[32m━━━━━━━━━━━━━━━━━━━━\u001b[0m\u001b[37m\u001b[0m \u001b[1m9s\u001b[0m 4ms/step - accuracy: 0.7164 - loss: 0.5671 - val_accuracy: 0.7055 - val_loss: 0.5931\n",
      "Epoch 42/50\n",
      "\u001b[1m2502/2502\u001b[0m \u001b[32m━━━━━━━━━━━━━━━━━━━━\u001b[0m\u001b[37m\u001b[0m \u001b[1m9s\u001b[0m 4ms/step - accuracy: 0.7115 - loss: 0.5741 - val_accuracy: 0.6554 - val_loss: 0.6250\n",
      "Epoch 43/50\n",
      "\u001b[1m2502/2502\u001b[0m \u001b[32m━━━━━━━━━━━━━━━━━━━━\u001b[0m\u001b[37m\u001b[0m \u001b[1m11s\u001b[0m 5ms/step - accuracy: 0.7078 - loss: 0.5775 - val_accuracy: 0.7220 - val_loss: 0.5777\n",
      "Epoch 44/50\n",
      "\u001b[1m2502/2502\u001b[0m \u001b[32m━━━━━━━━━━━━━━━━━━━━\u001b[0m\u001b[37m\u001b[0m \u001b[1m13s\u001b[0m 5ms/step - accuracy: 0.7201 - loss: 0.5682 - val_accuracy: 0.7324 - val_loss: 0.5548\n",
      "Epoch 45/50\n",
      "\u001b[1m2502/2502\u001b[0m \u001b[32m━━━━━━━━━━━━━━━━━━━━\u001b[0m\u001b[37m\u001b[0m \u001b[1m11s\u001b[0m 4ms/step - accuracy: 0.7127 - loss: 0.5695 - val_accuracy: 0.7277 - val_loss: 0.5575\n",
      "Epoch 46/50\n",
      "\u001b[1m2502/2502\u001b[0m \u001b[32m━━━━━━━━━━━━━━━━━━━━\u001b[0m\u001b[37m\u001b[0m \u001b[1m11s\u001b[0m 4ms/step - accuracy: 0.7207 - loss: 0.5625 - val_accuracy: 0.7301 - val_loss: 0.5476\n",
      "Epoch 47/50\n",
      "\u001b[1m2502/2502\u001b[0m \u001b[32m━━━━━━━━━━━━━━━━━━━━\u001b[0m\u001b[37m\u001b[0m \u001b[1m15s\u001b[0m 6ms/step - accuracy: 0.7183 - loss: 0.5652 - val_accuracy: 0.6913 - val_loss: 0.5849\n",
      "Epoch 48/50\n",
      "\u001b[1m2502/2502\u001b[0m \u001b[32m━━━━━━━━━━━━━━━━━━━━\u001b[0m\u001b[37m\u001b[0m \u001b[1m14s\u001b[0m 6ms/step - accuracy: 0.7205 - loss: 0.5593 - val_accuracy: 0.7325 - val_loss: 0.5485\n",
      "Epoch 49/50\n",
      "\u001b[1m2502/2502\u001b[0m \u001b[32m━━━━━━━━━━━━━━━━━━━━\u001b[0m\u001b[37m\u001b[0m \u001b[1m9s\u001b[0m 4ms/step - accuracy: 0.7219 - loss: 0.5602 - val_accuracy: 0.7101 - val_loss: 0.5772\n",
      "Epoch 50/50\n",
      "\u001b[1m2502/2502\u001b[0m \u001b[32m━━━━━━━━━━━━━━━━━━━━\u001b[0m\u001b[37m\u001b[0m \u001b[1m11s\u001b[0m 4ms/step - accuracy: 0.7194 - loss: 0.5617 - val_accuracy: 0.7221 - val_loss: 0.5596\n"
     ]
    }
   ],
   "source": [
    "history = model.fit(X_train, y_train, batch_size=64, epochs=50, validation_split=0.2, callbacks=[early_stopping])"
   ]
  },
  {
   "cell_type": "markdown",
   "id": "20ce9661",
   "metadata": {},
   "source": [
    "## Evaluate the Model\n",
    "Evaluate the performance of the model on the test set."
   ]
  },
  {
   "cell_type": "code",
   "execution_count": 40,
   "id": "73167afc",
   "metadata": {},
   "outputs": [
    {
     "name": "stdout",
     "output_type": "stream",
     "text": [
      "\u001b[1m1564/1564\u001b[0m \u001b[32m━━━━━━━━━━━━━━━━━━━━\u001b[0m\u001b[37m\u001b[0m \u001b[1m3s\u001b[0m 2ms/step - accuracy: 0.7297 - loss: 0.5475\n"
     ]
    },
    {
     "data": {
      "text/plain": [
       "[0.5488643050193787, 0.7293007373809814]"
      ]
     },
     "execution_count": 40,
     "metadata": {},
     "output_type": "execute_result"
    }
   ],
   "source": [
    "# Evaluate the model\n",
    "model.evaluate(X_test, y_test)"
   ]
  },
  {
   "cell_type": "markdown",
   "id": "08e9bc87",
   "metadata": {},
   "source": [
    "## Make Predictions\n",
    "Use the trained model to make predictions on new or unseen data."
   ]
  },
  {
   "cell_type": "code",
   "execution_count": 46,
   "id": "940fa394",
   "metadata": {},
   "outputs": [
    {
     "name": "stdout",
     "output_type": "stream",
     "text": [
      "\u001b[1m1564/1564\u001b[0m \u001b[32m━━━━━━━━━━━━━━━━━━━━\u001b[0m\u001b[37m\u001b[0m \u001b[1m7s\u001b[0m 4ms/step\n",
      "Sample Index: 46020\n",
      "Actual Class: 0\n",
      "Predicted Class: 0\n",
      "\n",
      "Sample Index: 41320\n",
      "Actual Class: 1\n",
      "Predicted Class: 0\n",
      "\n",
      "Sample Index: 27270\n",
      "Actual Class: 1\n",
      "Predicted Class: 0\n",
      "\n",
      "Sample Index: 40013\n",
      "Actual Class: 1\n",
      "Predicted Class: 0\n",
      "\n",
      "Sample Index: 14633\n",
      "Actual Class: 0\n",
      "Predicted Class: 0\n",
      "\n"
     ]
    }
   ],
   "source": [
    "predictions = model.predict(X_test)\n",
    "predicted_classes = np.argmax(predictions, axis=1)\n",
    "\n",
    "# Reset the index of the 'y_test' Series\n",
    "y_test_reset = y_test.reset_index(drop=True)\n",
    "\n",
    "# Choose 5 random sample to use them for prediction \n",
    "random_sample_indices = random.sample(range(len(X_test)), 5)\n",
    "\n",
    "for sample_index in random_sample_indices:\n",
    "    actual_class = y_test_reset[sample_index]\n",
    "    predicted_class = predicted_classes[sample_index]\n",
    "\n",
    "    print(f\"Sample Index: {sample_index}\")\n",
    "    print(f\"Actual Class: {actual_class}\")\n",
    "    print(f\"Predicted Class: {predicted_class}\")\n",
    "    print()"
   ]
  },
  {
   "cell_type": "markdown",
   "id": "94942463",
   "metadata": {},
   "source": [
    "## Model Performance Visualization\n",
    "Visualize the performance metrics such as accuracy and loss over the epochs."
   ]
  },
  {
   "cell_type": "code",
   "execution_count": 47,
   "id": "b1955952",
   "metadata": {},
   "outputs": [
    {
     "data": {
      "image/png": "[encoded data removed]",
      "text/plain": [
       "<Figure size 640x480 with 1 Axes>"
      ]
     },
     "metadata": {},
     "output_type": "display_data"
    },
    {
     "data": {
      "image/png": "[encoded data removed]",
      "text/plain": [
       "<Figure size 640x480 with 1 Axes>"
      ]
     },
     "metadata": {},
     "output_type": "display_data"
    }
   ],
   "source": [
    "plt.figure(1)\n",
    "plt.plot(history.history['loss'])\n",
    "plt.plot(history.history['val_loss'])\n",
    "plt.legend(['training','validation'])\n",
    "plt.title('loss')\n",
    "plt.xlabel('epoch')\n",
    "plt.figure(2)\n",
    "plt.plot(history.history['accuracy'])\n",
    "plt.plot(history.history['val_accuracy'])\n",
    "plt.legend(['training','validation'])\n",
    "plt.title('Acurracy')\n",
    "plt.xlabel('epoch')\n",
    "plt.show()"
   ]
  },
  {
   "cell_type": "markdown",
   "id": "1d32965f",
   "metadata": {},
   "source": [
    "## Save the Model\n",
    "Save the trained model for submission."
   ]
  },
  {
   "cell_type": "code",
   "execution_count": 48,
   "id": "a4e1f00e",
   "metadata": {},
   "outputs": [
    {
     "name": "stderr",
     "output_type": "stream",
     "text": [
      "WARNING:absl:You are saving your model as an HDF5 file via `model.save()` or `keras.saving.save_model(model)`. This file format is considered legacy. We recommend using instead the native Keras format, e.g. `model.save('my_model.keras')` or `keras.saving.save_model(model, 'my_model.keras')`. \n"
     ]
    }
   ],
   "source": [
    "model.save(\"Bus_Breakdown_and_Delays_model.h5\")"
   ]
  },
  {
   "cell_type": "markdown",
   "id": "9ebe9b8d",
   "metadata": {},
   "source": [
    "## Project Questions:\n",
    "\n",
    "1. **Data Preprocessing**: Explain why you chose your specific data preprocessing techniques (e.g., normalization, encoding). How did these techniques help prepare the data for training the model?\n",
    "2. **Model Architecture**: Describe the reasoning behind your model’s architecture (e.g., the number of layers, type of layers, number of neurons, and activation functions). Why did you believe this architecture was appropriate for the problem at hand?\n",
    "3. **Training Process**: Discuss why you chose your batch size, number of epochs, and optimizer. How did these choices affect the training process? Did you experiment with different values, and what were the outcomes?\n",
    "4. **Loss Function and Metrics**: Why did you choose the specific loss function and evaluation metrics? How do they align with the objective of the task (e.g., regression vs classification)?\n",
    "5. **Regularization Techniques**: If you used regularization techniques such as dropout or weight decay, explain why you implemented them and how they influenced the model's performance.\n",
    "6. **Model Evaluation**: Justify your approach to evaluating the model. Why did you choose the specific performance metrics, and how do they reflect the model's success in solving the task?\n",
    "7. **Model Tuning (If Done)**: Describe any tuning you performed (e.g., hyperparameter tuning) and why you felt it was necessary. How did these adjustments improve model performance?\n",
    "8. **Overfitting and Underfitting**: Analyze whether the model encountered any overfitting or underfitting during training. What strategies could you implement to mitigate these issues?"
   ]
  },
  {
   "cell_type": "markdown",
   "id": "5f524a61",
   "metadata": {},
   "source": [
    "### Answer Here:\n",
    "\n",
    "- Data preprocessing: Standard preprocessing steps to clean data for correct prediction with the addition of using SMOTE to oversample the minority class.\n",
    "- Model architecture: Simple ANN model with Input layer containing 14 units matching the input features and activation='relu', 2 hidden layers containing 6 neurons with activation='relu' and output layer with one neuron since it's binary classification problem and activation='sigmoid'.\n",
    "- Training process: choosing a small batch size means it's going to take longer training so i went with batch_size=64, i choose 50 epochs but used early stopping parameter to prevent the model from overfitting.\n",
    "- Loss function: I used binary_crossentropy because it's classification problem with two classes Breakdown or Running late.\n",
    "- Regularization:  I did not use drop out , but it's a consideration to do as a second experiment.\n",
    "- Result: The ANN model achieved 0.7194 accuracy on training and 0.7297 on testing. In addition, I printed a sample and as it can be seen the model wrongly classified data in index 41320, 27270 and 40013 while correctly classified data in index 46020 and 14633. \n",
    "- Overall, the model is not perfect and needs further improvements."
   ]
  }
 ],
 "metadata": {
  "kernelspec": {
   "display_name": "base",
   "language": "python",
   "name": "python3"
  },
  "language_info": {
   "codemirror_mode": {
    "name": "ipython",
    "version": 3
   },
   "file_extension": ".py",
   "mimetype": "text/x-python",
   "name": "python",
   "nbconvert_exporter": "python",
   "pygments_lexer": "ipython3",
   "version": "3.11.7"
  }
 },
 "nbformat": 4,
 "nbformat_minor": 5
}
