{
  "cells": [
    {
      "cell_type": "markdown",
      "id": "6338e9cf",
      "metadata": {
        "id": "6338e9cf"
      },
      "source": [
        "# Fine-tuning a Sequence Classification Model Exam"
      ]
    },
    {
      "cell_type": "markdown",
      "id": "cc78efcc",
      "metadata": {
        "id": "cc78efcc"
      },
      "source": [
        "In this exam, you will be tasked with performing dataset preprocessing and fine-tuning a model for sequence classification. Complete each step carefully according to the instructions provided.\n",
        "\n",
        "### Model and Dataset Information\n",
        "\n",
        "For this task, you will be working with the following:\n",
        "\n",
        "- **Model Checkpoint**: Use the pre-trained model checkpoint `aubmindlab/bert-base-arabertv02` for both the model and tokenizer.\n",
        "- **Dataset**: You will be using the `CUTD/sanad_df` dataset. Ensure to load and preprocess the dataset correctly for training and evaluation.\n",
        "\n",
        "**Note:**\n",
        "- Any additional steps or methods you include that improve or enhance the results will be rewarded with bonus points if they are justified.\n",
        "- The steps outlined here are suggestions. You are free to implement alternative methods or approaches to achieve the task, as long as you explain the reasoning and the process at the bottom of the notebook.\n",
        "- You can use either TensorFlow or PyTorch for this task. If you prefer TensorFlow, feel free to use it when working with Hugging Face Transformers.\n",
        "- The number of data samples you choose to work with is flexible. However, if you select a very low number of samples and the training time is too short, this could affect the evaluation of your work."
      ]
    },
    {
      "cell_type": "markdown",
      "id": "e4aded80",
      "metadata": {
        "id": "e4aded80"
      },
      "source": [
        "## Step 1: Load the Dataset"
      ]
    },
    {
      "cell_type": "markdown",
      "id": "d54930f9",
      "metadata": {
        "id": "d54930f9"
      },
      "source": [
        "Load the dataset and split it into training and test sets. Use 20% of the data for testing."
      ]
    },
    {
      "cell_type": "code",
      "execution_count": 39,
      "id": "ef64e03c",
      "metadata": {
        "id": "ef64e03c"
      },
      "outputs": [],
      "source": [
        "import pandas as pd\n",
        "\n",
        "df = pd.read_csv(\"hf://datasets/CUTD/sanad_df/sanad_df.csv\")\n",
        "\n",
        "df = df.head(5000)"
      ]
    },
    {
      "cell_type": "code",
      "source": [
        "print(df.info())"
      ],
      "metadata": {
        "colab": {
          "base_uri": "https://localhost:8080/"
        },
        "id": "tasWH4ywXSzC",
        "outputId": "5fcc27f2-46ac-4ce9-dc8f-53039a12fec9"
      },
      "id": "tasWH4ywXSzC",
      "execution_count": 40,
      "outputs": [
        {
          "output_type": "stream",
          "name": "stdout",
          "text": [
            "<class 'pandas.core.frame.DataFrame'>\n",
            "RangeIndex: 5000 entries, 0 to 4999\n",
            "Data columns (total 3 columns):\n",
            " #   Column      Non-Null Count  Dtype \n",
            "---  ------      --------------  ----- \n",
            " 0   Unnamed: 0  5000 non-null   int64 \n",
            " 1   text        5000 non-null   object\n",
            " 2   label       5000 non-null   object\n",
            "dtypes: int64(1), object(2)\n",
            "memory usage: 117.3+ KB\n",
            "None\n"
          ]
        }
      ]
    },
    {
      "cell_type": "code",
      "source": [
        "print(\"Missing values:\")\n",
        "print(df.isnull().sum())"
      ],
      "metadata": {
        "colab": {
          "base_uri": "https://localhost:8080/"
        },
        "id": "zCbU8iVcXeaF",
        "outputId": "de79b185-c7cb-4fff-efb3-d3fe43fb53f1"
      },
      "id": "zCbU8iVcXeaF",
      "execution_count": 41,
      "outputs": [
        {
          "output_type": "stream",
          "name": "stdout",
          "text": [
            "Missing values:\n",
            "Unnamed: 0    0\n",
            "text          0\n",
            "label         0\n",
            "dtype: int64\n"
          ]
        }
      ]
    },
    {
      "cell_type": "code",
      "source": [
        "df = df.drop_duplicates()"
      ],
      "metadata": {
        "id": "FSSOyMwUXjcC"
      },
      "id": "FSSOyMwUXjcC",
      "execution_count": 42,
      "outputs": []
    },
    {
      "cell_type": "markdown",
      "id": "d87ddcd5",
      "metadata": {
        "id": "d87ddcd5"
      },
      "source": [
        "## Step 2: Clean Unnecessary Columns"
      ]
    },
    {
      "cell_type": "markdown",
      "id": "bb10d4d4",
      "metadata": {
        "id": "bb10d4d4"
      },
      "source": [
        "Remove any columns from the dataset that are not needed for training."
      ]
    },
    {
      "cell_type": "code",
      "source": [
        "!pip install PyArabic"
      ],
      "metadata": {
        "colab": {
          "base_uri": "https://localhost:8080/"
        },
        "id": "1uPA5WvKL2Z7",
        "outputId": "cad46daa-8430-4202-df81-6fd8c3bf3707"
      },
      "id": "1uPA5WvKL2Z7",
      "execution_count": 43,
      "outputs": [
        {
          "output_type": "stream",
          "name": "stdout",
          "text": [
            "Requirement already satisfied: PyArabic in /usr/local/lib/python3.10/dist-packages (0.6.15)\n",
            "Requirement already satisfied: six>=1.14.0 in /usr/local/lib/python3.10/dist-packages (from PyArabic) (1.16.0)\n"
          ]
        }
      ]
    },
    {
      "cell_type": "code",
      "source": [
        "import pyarabic.araby as araby\n",
        "import nltk\n",
        "from nltk.corpus import stopwords\n",
        "import nltk\n",
        "from nltk.stem.isri import ISRIStemmer\n",
        "nltk.download('stopwords')\n",
        "import re"
      ],
      "metadata": {
        "colab": {
          "base_uri": "https://localhost:8080/"
        },
        "id": "hS7dtN0ZL6MC",
        "outputId": "647933f1-9cd0-4f51-f607-ea476161f3b6"
      },
      "id": "hS7dtN0ZL6MC",
      "execution_count": 44,
      "outputs": [
        {
          "output_type": "stream",
          "name": "stderr",
          "text": [
            "[nltk_data] Downloading package stopwords to /root/nltk_data...\n",
            "[nltk_data]   Package stopwords is already up-to-date!\n"
          ]
        }
      ]
    },
    {
      "cell_type": "code",
      "execution_count": 45,
      "id": "7dd06b97",
      "metadata": {
        "id": "7dd06b97"
      },
      "outputs": [],
      "source": [
        "arabic_stopwords = set(stopwords.words('arabic'))\n",
        "\n",
        "st = ISRIStemmer()\n",
        "\n",
        "\n",
        "def clean_text(text):\n",
        "\n",
        "    cleaned_text = re.sub(r'http\\S+|www\\S+|https\\S+', '', text, flags=re.MULTILINE)\n",
        "\n",
        "\n",
        "    cleaned_text = re.sub(r'[^\\w\\s]', '', cleaned_text)\n",
        "\n",
        "\n",
        "\n",
        "    cleaned_text = araby.strip_tashkeel(cleaned_text)\n",
        "    cleaned_text = araby.strip_tatweel(cleaned_text)\n",
        "    cleaned_text = araby.strip_lastharaka(cleaned_text)\n",
        "\n",
        "\n",
        "    words = cleaned_text.split()\n",
        "\n",
        "\n",
        "    filtered_words = [word for word in words if word not in arabic_stopwords]\n",
        "\n",
        "\n",
        "    stemmed_words = []\n",
        "    for word in words:\n",
        "      stemmed_words.append(st.stem(word))\n",
        "\n",
        "\n",
        "    stemmed_words = ' '.join(filtered_words)\n",
        "\n",
        "\n",
        "    cleaned_text = araby.normalize_hamza(stemmed_words)\n",
        "\n",
        "    return cleaned_text\n",
        "\n",
        "\n",
        "df['clean_text'] = df['text'].apply(clean_text)"
      ]
    },
    {
      "cell_type": "code",
      "source": [
        "df['clean_text']"
      ],
      "metadata": {
        "colab": {
          "base_uri": "https://localhost:8080/",
          "height": 458
        },
        "id": "LrfDJUmQMkG7",
        "outputId": "06b4e3fa-53a8-465f-c2eb-c45277ffe362"
      },
      "id": "LrfDJUmQMkG7",
      "execution_count": 46,
      "outputs": [
        {
          "output_type": "execute_result",
          "data": {
            "text/plain": [
              "0       الشارقة محمد ولد محمد سالمعرضت الءول خشبة مسرح...\n",
              "1       عبدالحكيم الزبيدي شاعر وقاص وناقد جاءت نصوصه م...\n",
              "2       انطلقت الءيام العام الفاءت فعاليات مهرجان دبي ...\n",
              "3       ءقيمت الءول ءكسبو الشارقة ندوة حوارية حول ءهمي...\n",
              "4       باسمة يونس حينما قال صاحب السمو الشيخ الدكتور ...\n",
              "                              ...                        \n",
              "4995    ءبوظبي الخليجءكد الدكتور فالح حنظل خلال الجلسة...\n",
              "4996    ءعلنت هيءة ءبوظبي للسياحة والثقافة اختيارها شخ...\n",
              "4997    القاهرةالخليج طرءت الشعر بامتداد تاريخ الءدب ت...\n",
              "4998    وحده الكتاب يتحول هيولى خفية تتجاوز الربط ءفرا...\n",
              "4999    اجتمعت اللجنة التنفيذية العليا لجاءزة الشيخ زا...\n",
              "Name: clean_text, Length: 5000, dtype: object"
            ],
            "text/html": [
              "<div>\n",
              "<style scoped>\n",
              "    .dataframe tbody tr th:only-of-type {\n",
              "        vertical-align: middle;\n",
              "    }\n",
              "\n",
              "    .dataframe tbody tr th {\n",
              "        vertical-align: top;\n",
              "    }\n",
              "\n",
              "    .dataframe thead th {\n",
              "        text-align: right;\n",
              "    }\n",
              "</style>\n",
              "<table border=\"1\" class=\"dataframe\">\n",
              "  <thead>\n",
              "    <tr style=\"text-align: right;\">\n",
              "      <th></th>\n",
              "      <th>clean_text</th>\n",
              "    </tr>\n",
              "  </thead>\n",
              "  <tbody>\n",
              "    <tr>\n",
              "      <th>0</th>\n",
              "      <td>الشارقة محمد ولد محمد سالمعرضت الءول خشبة مسرح...</td>\n",
              "    </tr>\n",
              "    <tr>\n",
              "      <th>1</th>\n",
              "      <td>عبدالحكيم الزبيدي شاعر وقاص وناقد جاءت نصوصه م...</td>\n",
              "    </tr>\n",
              "    <tr>\n",
              "      <th>2</th>\n",
              "      <td>انطلقت الءيام العام الفاءت فعاليات مهرجان دبي ...</td>\n",
              "    </tr>\n",
              "    <tr>\n",
              "      <th>3</th>\n",
              "      <td>ءقيمت الءول ءكسبو الشارقة ندوة حوارية حول ءهمي...</td>\n",
              "    </tr>\n",
              "    <tr>\n",
              "      <th>4</th>\n",
              "      <td>باسمة يونس حينما قال صاحب السمو الشيخ الدكتور ...</td>\n",
              "    </tr>\n",
              "    <tr>\n",
              "      <th>...</th>\n",
              "      <td>...</td>\n",
              "    </tr>\n",
              "    <tr>\n",
              "      <th>4995</th>\n",
              "      <td>ءبوظبي الخليجءكد الدكتور فالح حنظل خلال الجلسة...</td>\n",
              "    </tr>\n",
              "    <tr>\n",
              "      <th>4996</th>\n",
              "      <td>ءعلنت هيءة ءبوظبي للسياحة والثقافة اختيارها شخ...</td>\n",
              "    </tr>\n",
              "    <tr>\n",
              "      <th>4997</th>\n",
              "      <td>القاهرةالخليج طرءت الشعر بامتداد تاريخ الءدب ت...</td>\n",
              "    </tr>\n",
              "    <tr>\n",
              "      <th>4998</th>\n",
              "      <td>وحده الكتاب يتحول هيولى خفية تتجاوز الربط ءفرا...</td>\n",
              "    </tr>\n",
              "    <tr>\n",
              "      <th>4999</th>\n",
              "      <td>اجتمعت اللجنة التنفيذية العليا لجاءزة الشيخ زا...</td>\n",
              "    </tr>\n",
              "  </tbody>\n",
              "</table>\n",
              "<p>5000 rows × 1 columns</p>\n",
              "</div><br><label><b>dtype:</b> object</label>"
            ]
          },
          "metadata": {},
          "execution_count": 46
        }
      ]
    },
    {
      "cell_type": "code",
      "source": [
        "df=df.drop('Unnamed: 0',axis=1)"
      ],
      "metadata": {
        "id": "DsVrf1CZVI9b"
      },
      "id": "DsVrf1CZVI9b",
      "execution_count": 47,
      "outputs": []
    },
    {
      "cell_type": "code",
      "source": [
        "df=df.drop('text',axis=1)"
      ],
      "metadata": {
        "id": "nuawhe2rVmRl"
      },
      "id": "nuawhe2rVmRl",
      "execution_count": 48,
      "outputs": []
    },
    {
      "cell_type": "code",
      "source": [
        "df['label'].value_counts()"
      ],
      "metadata": {
        "colab": {
          "base_uri": "https://localhost:8080/",
          "height": 209
        },
        "id": "yx7Uk7VXNwKq",
        "outputId": "3c8f7bd4-49fe-438b-bdd5-7a932884333f"
      },
      "id": "yx7Uk7VXNwKq",
      "execution_count": 16,
      "outputs": [
        {
          "output_type": "execute_result",
          "data": {
            "text/plain": [
              "label\n",
              "Culture    6500\n",
              "Finance    6500\n",
              "Medical    2000\n",
              "Name: count, dtype: int64"
            ],
            "text/html": [
              "<div>\n",
              "<style scoped>\n",
              "    .dataframe tbody tr th:only-of-type {\n",
              "        vertical-align: middle;\n",
              "    }\n",
              "\n",
              "    .dataframe tbody tr th {\n",
              "        vertical-align: top;\n",
              "    }\n",
              "\n",
              "    .dataframe thead th {\n",
              "        text-align: right;\n",
              "    }\n",
              "</style>\n",
              "<table border=\"1\" class=\"dataframe\">\n",
              "  <thead>\n",
              "    <tr style=\"text-align: right;\">\n",
              "      <th></th>\n",
              "      <th>count</th>\n",
              "    </tr>\n",
              "    <tr>\n",
              "      <th>label</th>\n",
              "      <th></th>\n",
              "    </tr>\n",
              "  </thead>\n",
              "  <tbody>\n",
              "    <tr>\n",
              "      <th>Culture</th>\n",
              "      <td>6500</td>\n",
              "    </tr>\n",
              "    <tr>\n",
              "      <th>Finance</th>\n",
              "      <td>6500</td>\n",
              "    </tr>\n",
              "    <tr>\n",
              "      <th>Medical</th>\n",
              "      <td>2000</td>\n",
              "    </tr>\n",
              "  </tbody>\n",
              "</table>\n",
              "</div><br><label><b>dtype:</b> int64</label>"
            ]
          },
          "metadata": {},
          "execution_count": 16
        }
      ]
    },
    {
      "cell_type": "code",
      "source": [
        "df.head()"
      ],
      "metadata": {
        "colab": {
          "base_uri": "https://localhost:8080/",
          "height": 206
        },
        "id": "iZYub72YYAa1",
        "outputId": "c735fb8f-f516-424a-a3dc-8f28483b9feb"
      },
      "id": "iZYub72YYAa1",
      "execution_count": 49,
      "outputs": [
        {
          "output_type": "execute_result",
          "data": {
            "text/plain": [
              "     label                                         clean_text\n",
              "0  Culture  الشارقة محمد ولد محمد سالمعرضت الءول خشبة مسرح...\n",
              "1  Culture  عبدالحكيم الزبيدي شاعر وقاص وناقد جاءت نصوصه م...\n",
              "2  Culture  انطلقت الءيام العام الفاءت فعاليات مهرجان دبي ...\n",
              "3  Culture  ءقيمت الءول ءكسبو الشارقة ندوة حوارية حول ءهمي...\n",
              "4  Culture  باسمة يونس حينما قال صاحب السمو الشيخ الدكتور ..."
            ],
            "text/html": [
              "\n",
              "  <div id=\"df-1cfa97f1-6ac8-4032-99bd-efb03c263150\" class=\"colab-df-container\">\n",
              "    <div>\n",
              "<style scoped>\n",
              "    .dataframe tbody tr th:only-of-type {\n",
              "        vertical-align: middle;\n",
              "    }\n",
              "\n",
              "    .dataframe tbody tr th {\n",
              "        vertical-align: top;\n",
              "    }\n",
              "\n",
              "    .dataframe thead th {\n",
              "        text-align: right;\n",
              "    }\n",
              "</style>\n",
              "<table border=\"1\" class=\"dataframe\">\n",
              "  <thead>\n",
              "    <tr style=\"text-align: right;\">\n",
              "      <th></th>\n",
              "      <th>label</th>\n",
              "      <th>clean_text</th>\n",
              "    </tr>\n",
              "  </thead>\n",
              "  <tbody>\n",
              "    <tr>\n",
              "      <th>0</th>\n",
              "      <td>Culture</td>\n",
              "      <td>الشارقة محمد ولد محمد سالمعرضت الءول خشبة مسرح...</td>\n",
              "    </tr>\n",
              "    <tr>\n",
              "      <th>1</th>\n",
              "      <td>Culture</td>\n",
              "      <td>عبدالحكيم الزبيدي شاعر وقاص وناقد جاءت نصوصه م...</td>\n",
              "    </tr>\n",
              "    <tr>\n",
              "      <th>2</th>\n",
              "      <td>Culture</td>\n",
              "      <td>انطلقت الءيام العام الفاءت فعاليات مهرجان دبي ...</td>\n",
              "    </tr>\n",
              "    <tr>\n",
              "      <th>3</th>\n",
              "      <td>Culture</td>\n",
              "      <td>ءقيمت الءول ءكسبو الشارقة ندوة حوارية حول ءهمي...</td>\n",
              "    </tr>\n",
              "    <tr>\n",
              "      <th>4</th>\n",
              "      <td>Culture</td>\n",
              "      <td>باسمة يونس حينما قال صاحب السمو الشيخ الدكتور ...</td>\n",
              "    </tr>\n",
              "  </tbody>\n",
              "</table>\n",
              "</div>\n",
              "    <div class=\"colab-df-buttons\">\n",
              "\n",
              "  <div class=\"colab-df-container\">\n",
              "    <button class=\"colab-df-convert\" onclick=\"convertToInteractive('df-1cfa97f1-6ac8-4032-99bd-efb03c263150')\"\n",
              "            title=\"Convert this dataframe to an interactive table.\"\n",
              "            style=\"display:none;\">\n",
              "\n",
              "  <svg xmlns=\"http://www.w3.org/2000/svg\" height=\"24px\" viewBox=\"0 -960 960 960\">\n",
              "    <path d=\"M120-120v-720h720v720H120Zm60-500h600v-160H180v160Zm220 220h160v-160H400v160Zm0 220h160v-160H400v160ZM180-400h160v-160H180v160Zm440 0h160v-160H620v160ZM180-180h160v-160H180v160Zm440 0h160v-160H620v160Z\"/>\n",
              "  </svg>\n",
              "    </button>\n",
              "\n",
              "  <style>\n",
              "    .colab-df-container {\n",
              "      display:flex;\n",
              "      gap: 12px;\n",
              "    }\n",
              "\n",
              "    .colab-df-convert {\n",
              "      background-color: #E8F0FE;\n",
              "      border: none;\n",
              "      border-radius: 50%;\n",
              "      cursor: pointer;\n",
              "      display: none;\n",
              "      fill: #1967D2;\n",
              "      height: 32px;\n",
              "      padding: 0 0 0 0;\n",
              "      width: 32px;\n",
              "    }\n",
              "\n",
              "    .colab-df-convert:hover {\n",
              "      background-color: #E2EBFA;\n",
              "      box-shadow: 0px 1px 2px rgba(60, 64, 67, 0.3), 0px 1px 3px 1px rgba(60, 64, 67, 0.15);\n",
              "      fill: #174EA6;\n",
              "    }\n",
              "\n",
              "    .colab-df-buttons div {\n",
              "      margin-bottom: 4px;\n",
              "    }\n",
              "\n",
              "    [theme=dark] .colab-df-convert {\n",
              "      background-color: #3B4455;\n",
              "      fill: #D2E3FC;\n",
              "    }\n",
              "\n",
              "    [theme=dark] .colab-df-convert:hover {\n",
              "      background-color: #434B5C;\n",
              "      box-shadow: 0px 1px 3px 1px rgba(0, 0, 0, 0.15);\n",
              "      filter: drop-shadow(0px 1px 2px rgba(0, 0, 0, 0.3));\n",
              "      fill: #FFFFFF;\n",
              "    }\n",
              "  </style>\n",
              "\n",
              "    <script>\n",
              "      const buttonEl =\n",
              "        document.querySelector('#df-1cfa97f1-6ac8-4032-99bd-efb03c263150 button.colab-df-convert');\n",
              "      buttonEl.style.display =\n",
              "        google.colab.kernel.accessAllowed ? 'block' : 'none';\n",
              "\n",
              "      async function convertToInteractive(key) {\n",
              "        const element = document.querySelector('#df-1cfa97f1-6ac8-4032-99bd-efb03c263150');\n",
              "        const dataTable =\n",
              "          await google.colab.kernel.invokeFunction('convertToInteractive',\n",
              "                                                    [key], {});\n",
              "        if (!dataTable) return;\n",
              "\n",
              "        const docLinkHtml = 'Like what you see? Visit the ' +\n",
              "          '<a target=\"_blank\" href=https://colab.research.google.com/notebooks/data_table.ipynb>data table notebook</a>'\n",
              "          + ' to learn more about interactive tables.';\n",
              "        element.innerHTML = '';\n",
              "        dataTable['output_type'] = 'display_data';\n",
              "        await google.colab.output.renderOutput(dataTable, element);\n",
              "        const docLink = document.createElement('div');\n",
              "        docLink.innerHTML = docLinkHtml;\n",
              "        element.appendChild(docLink);\n",
              "      }\n",
              "    </script>\n",
              "  </div>\n",
              "\n",
              "\n",
              "<div id=\"df-a199b650-53b1-40de-afa5-b54bf821cb1b\">\n",
              "  <button class=\"colab-df-quickchart\" onclick=\"quickchart('df-a199b650-53b1-40de-afa5-b54bf821cb1b')\"\n",
              "            title=\"Suggest charts\"\n",
              "            style=\"display:none;\">\n",
              "\n",
              "<svg xmlns=\"http://www.w3.org/2000/svg\" height=\"24px\"viewBox=\"0 0 24 24\"\n",
              "     width=\"24px\">\n",
              "    <g>\n",
              "        <path d=\"M19 3H5c-1.1 0-2 .9-2 2v14c0 1.1.9 2 2 2h14c1.1 0 2-.9 2-2V5c0-1.1-.9-2-2-2zM9 17H7v-7h2v7zm4 0h-2V7h2v10zm4 0h-2v-4h2v4z\"/>\n",
              "    </g>\n",
              "</svg>\n",
              "  </button>\n",
              "\n",
              "<style>\n",
              "  .colab-df-quickchart {\n",
              "      --bg-color: #E8F0FE;\n",
              "      --fill-color: #1967D2;\n",
              "      --hover-bg-color: #E2EBFA;\n",
              "      --hover-fill-color: #174EA6;\n",
              "      --disabled-fill-color: #AAA;\n",
              "      --disabled-bg-color: #DDD;\n",
              "  }\n",
              "\n",
              "  [theme=dark] .colab-df-quickchart {\n",
              "      --bg-color: #3B4455;\n",
              "      --fill-color: #D2E3FC;\n",
              "      --hover-bg-color: #434B5C;\n",
              "      --hover-fill-color: #FFFFFF;\n",
              "      --disabled-bg-color: #3B4455;\n",
              "      --disabled-fill-color: #666;\n",
              "  }\n",
              "\n",
              "  .colab-df-quickchart {\n",
              "    background-color: var(--bg-color);\n",
              "    border: none;\n",
              "    border-radius: 50%;\n",
              "    cursor: pointer;\n",
              "    display: none;\n",
              "    fill: var(--fill-color);\n",
              "    height: 32px;\n",
              "    padding: 0;\n",
              "    width: 32px;\n",
              "  }\n",
              "\n",
              "  .colab-df-quickchart:hover {\n",
              "    background-color: var(--hover-bg-color);\n",
              "    box-shadow: 0 1px 2px rgba(60, 64, 67, 0.3), 0 1px 3px 1px rgba(60, 64, 67, 0.15);\n",
              "    fill: var(--button-hover-fill-color);\n",
              "  }\n",
              "\n",
              "  .colab-df-quickchart-complete:disabled,\n",
              "  .colab-df-quickchart-complete:disabled:hover {\n",
              "    background-color: var(--disabled-bg-color);\n",
              "    fill: var(--disabled-fill-color);\n",
              "    box-shadow: none;\n",
              "  }\n",
              "\n",
              "  .colab-df-spinner {\n",
              "    border: 2px solid var(--fill-color);\n",
              "    border-color: transparent;\n",
              "    border-bottom-color: var(--fill-color);\n",
              "    animation:\n",
              "      spin 1s steps(1) infinite;\n",
              "  }\n",
              "\n",
              "  @keyframes spin {\n",
              "    0% {\n",
              "      border-color: transparent;\n",
              "      border-bottom-color: var(--fill-color);\n",
              "      border-left-color: var(--fill-color);\n",
              "    }\n",
              "    20% {\n",
              "      border-color: transparent;\n",
              "      border-left-color: var(--fill-color);\n",
              "      border-top-color: var(--fill-color);\n",
              "    }\n",
              "    30% {\n",
              "      border-color: transparent;\n",
              "      border-left-color: var(--fill-color);\n",
              "      border-top-color: var(--fill-color);\n",
              "      border-right-color: var(--fill-color);\n",
              "    }\n",
              "    40% {\n",
              "      border-color: transparent;\n",
              "      border-right-color: var(--fill-color);\n",
              "      border-top-color: var(--fill-color);\n",
              "    }\n",
              "    60% {\n",
              "      border-color: transparent;\n",
              "      border-right-color: var(--fill-color);\n",
              "    }\n",
              "    80% {\n",
              "      border-color: transparent;\n",
              "      border-right-color: var(--fill-color);\n",
              "      border-bottom-color: var(--fill-color);\n",
              "    }\n",
              "    90% {\n",
              "      border-color: transparent;\n",
              "      border-bottom-color: var(--fill-color);\n",
              "    }\n",
              "  }\n",
              "</style>\n",
              "\n",
              "  <script>\n",
              "    async function quickchart(key) {\n",
              "      const quickchartButtonEl =\n",
              "        document.querySelector('#' + key + ' button');\n",
              "      quickchartButtonEl.disabled = true;  // To prevent multiple clicks.\n",
              "      quickchartButtonEl.classList.add('colab-df-spinner');\n",
              "      try {\n",
              "        const charts = await google.colab.kernel.invokeFunction(\n",
              "            'suggestCharts', [key], {});\n",
              "      } catch (error) {\n",
              "        console.error('Error during call to suggestCharts:', error);\n",
              "      }\n",
              "      quickchartButtonEl.classList.remove('colab-df-spinner');\n",
              "      quickchartButtonEl.classList.add('colab-df-quickchart-complete');\n",
              "    }\n",
              "    (() => {\n",
              "      let quickchartButtonEl =\n",
              "        document.querySelector('#df-a199b650-53b1-40de-afa5-b54bf821cb1b button');\n",
              "      quickchartButtonEl.style.display =\n",
              "        google.colab.kernel.accessAllowed ? 'block' : 'none';\n",
              "    })();\n",
              "  </script>\n",
              "</div>\n",
              "\n",
              "    </div>\n",
              "  </div>\n"
            ],
            "application/vnd.google.colaboratory.intrinsic+json": {
              "type": "dataframe",
              "variable_name": "df",
              "summary": "{\n  \"name\": \"df\",\n  \"rows\": 5000,\n  \"fields\": [\n    {\n      \"column\": \"label\",\n      \"properties\": {\n        \"dtype\": \"category\",\n        \"num_unique_values\": 1,\n        \"samples\": [\n          \"Culture\"\n        ],\n        \"semantic_type\": \"\",\n        \"description\": \"\"\n      }\n    },\n    {\n      \"column\": \"clean_text\",\n      \"properties\": {\n        \"dtype\": \"string\",\n        \"num_unique_values\": 4998,\n        \"samples\": [\n          \"\\u0627\\u0644\\u0634\\u0627\\u0631\\u0642\\u0629 \\u063a\\u064a\\u062b \\u062e\\u0648\\u0631\\u064a \\u0636\\u0645\\u0646 \\u0641\\u0639\\u0627\\u0644\\u064a\\u0627\\u062a \\u0645\\u0647\\u0631\\u062c\\u0627\\u0646 \\u0627\\u0644\\u0645\\u0633\\u0631\\u062d \\u0627\\u0644\\u062e\\u0644\\u064a\\u062c\\u064a \\u0621\\u0642\\u064a\\u0645\\u062a \\u0627\\u0644\\u0621\\u0648\\u0644 \\u0641\\u0646\\u062f\\u0642 \\u0631\\u0627\\u062f\\u064a\\u0633\\u0648\\u0646 \\u0628\\u0644\\u0648 \\u062c\\u0644\\u0633\\u0629 \\u062d\\u0648\\u0627\\u0631\\u064a\\u0629 \\u0639\\u0646\\u0648\\u0627\\u0646 \\u0627\\u0644\\u0645\\u0633\\u0631\\u062d \\u0627\\u0644\\u0639\\u0645\\u0627\\u0646\\u064a \\u0634\\u0627\\u0631\\u0643 \\u0627\\u0644\\u0645\\u0633\\u0631\\u062d\\u064a\\u0648\\u0646 \\u0634\\u0645\\u0639\\u0629 \\u0645\\u062d\\u0645\\u062f \\u0645\\u062d\\u0645\\u062f \\u0639\\u0645\\u0627\\u062f \\u0627\\u0644\\u0634\\u0646\\u0641\\u0631\\u064a \\u0648\\u064a\\u0648\\u0633\\u0641 \\u0627\\u0644\\u0628\\u0644\\u0648\\u0634\\u064a \\u0648\\u0621\\u062f\\u0627\\u0631\\u0647\\u0627 \\u0645\\u062d\\u0645\\u062f \\u062e\\u0644\\u0641\\u0627\\u0646 \\u0627\\u0644\\u0647\\u0646\\u0627\\u0646\\u064a\\u062a\\u0646\\u0627\\u0648\\u0644 \\u0627\\u0644\\u0645\\u0634\\u0627\\u0631\\u0643\\u0648\\u0646 \\u0648\\u0627\\u0642\\u0639 \\u0627\\u0644\\u0645\\u0633\\u0631\\u062d \\u0627\\u0644\\u0639\\u0645\\u0627\\u0646\\u064a \\u0648\\u062d\\u0627\\u0644\\u0629 \\u0627\\u0644\\u0632\\u062e\\u0645 \\u0648\\u0627\\u0644\\u062a\\u0646\\u0648\\u0639 \\u0627\\u0644\\u0634\\u062f\\u064a\\u062f \\u064a\\u062d\\u0627\\u0637 \\u0627\\u0644\\u0645\\u0633\\u0631\\u062d \\u0639\\u0628\\u0631 \\u0639\\u062f\\u062f \\u0643\\u0628\\u064a\\u0631 \\u0627\\u0644\\u0641\\u0631\\u0642 \\u0648\\u0627\\u0644\\u0645\\u0647\\u0631\\u062c\\u0627\\u0646\\u0627\\u062a \\u0627\\u0644\\u0645\\u0633\\u0631\\u062d\\u064a\\u0629 \\u0627\\u0644\\u0645\\u062e\\u062a\\u0644\\u0641\\u0629 \\u0645\\u0621\\u0643\\u062f\\u064a\\u0646 \\u0627\\u0644\\u062c\\u0645\\u0647\\u0648\\u0631 \\u064a\\u0632\\u0627\\u0644 \\u0628\\u0645\\u062b\\u0627\\u0628\\u0629 \\u0643\\u0644\\u0645\\u0629 \\u0627\\u0644\\u0633\\u0631 \\u062d\\u0627\\u0644\\u0629 \\u0627\\u0644\\u0628\\u0647\\u0627\\u0621 \\u0627\\u0644\\u062c\\u0644\\u064a\\u0629 \\u062a\\u062d\\u064a\\u0637 \\u0628\\u0627\\u0644\\u0645\\u0633\\u0631\\u062d \\u0627\\u0644\\u0639\\u0645\\u0627\\u0646\\u064a \\u0645\\u062f\\u0627\\u0631 \\u062d\\u0642\\u0628 \\u062a\\u0637\\u0648\\u0631\\u0647 \\u062a\\u0638\\u0644 \\u0627\\u0644\\u0645\\u0647\\u0631\\u062c\\u0627\\u0646\\u0627\\u062a \\u0627\\u0644\\u0641\\u0631\\u0635\\u0629 \\u0627\\u0644\\u062d\\u0642\\u064a\\u0642\\u064a\\u0629 \\u0648\\u0621\\u0643\\u0633\\u064a\\u0631 \\u0627\\u0644\\u062a\\u062c\\u062f\\u062f \\u0633\\u0648\\u0627\\u0621 \\u0627\\u0644\\u0645\\u062d\\u0644\\u064a\\u0629 \\u0627\\u0644\\u062e\\u0644\\u064a\\u062c\\u064a\\u0629 \\u0648\\u0627\\u0644\\u0639\\u0631\\u0628\\u064a\\u0629 \\u062a\\u0646\\u0648\\u0639\\u0647\\u0627 \\u0621\\u0634\\u0627\\u0631\\u062a \\u0634\\u0645\\u0639\\u0629 \\u0645\\u062d\\u0645\\u062f \\u0627\\u0644\\u0645\\u0633\\u0631\\u062d \\u0627\\u0644\\u0639\\u0645\\u0627\\u0646\\u064a \\u062d\\u0638\\u064a \\u0628\\u0646\\u062e\\u0628\\u0629 \\u0631\\u0627\\u0621\\u0639\\u0629 \\u0627\\u0644\\u0641\\u0646\\u0627\\u0646\\u0627\\u062a \\u0645\\u0631\\u062d\\u0644\\u0629 \\u0627\\u0644\\u0628\\u062f\\u0627\\u064a\\u0627\\u062a \\u0639\\u0628\\u0631 \\u0627\\u0644\\u0645\\u0633\\u0631\\u062d \\u0627\\u0644\\u0645\\u062f\\u0631\\u0633\\u064a \\u0648\\u0627\\u0644\\u062c\\u0627\\u0645\\u0639\\u064a \\u062e\\u0634\\u0628\\u0627\\u062a \\u0627\\u0644\\u0621\\u0646\\u062f\\u064a\\u0629 \\u0627\\u0633\\u062a\\u0642\\u0637\\u0628\\u062a \\u0627\\u0644\\u0639\\u062f\\u064a\\u062f \\u0645\\u0646\\u0647\\u0646 \\u0648\\u062e\\u0635\\u0648\\u0635\\u0627 \\u0645\\u0631\\u062d\\u0644\\u0629 \\u0627\\u0644\\u0633\\u0628\\u0639\\u064a\\u0646\\u0627\\u062a \\u0634\\u0647\\u062f\\u062a \\u0627\\u0644\\u062a\\u062d\\u0627\\u0642 \\u0639\\u062f\\u062f \\u0643\\u0628\\u064a\\u0631 \\u0627\\u0644\\u0641\\u0646\\u0627\\u0646\\u0627\\u062a \\u0648\\u0643\\u0627\\u0646\\u062a \\u062e\\u0634\\u0628\\u0629 \\u0627\\u0644\\u0646\\u0627\\u062f\\u064a \\u0627\\u0644\\u0621\\u0647\\u0644\\u064a \\u0648\\u062d\\u062f\\u0647\\u0627 \\u062a\\u062c\\u0645\\u0639 20 \\u0641\\u0646\\u0627\\u0646\\u0629 \\u0642\\u062f\\u0645\\u0646 \\u0627\\u0644\\u0645\\u0648\\u0627\\u0633\\u0645 \\u064a\\u0642\\u0627\\u0631\\u0628 28 \\u0645\\u0633\\u0631\\u062d\\u064a\\u0629\\u0648\\u0621\\u0643\\u062f\\u062a \\u062d\\u0627\\u0644\\u0629 \\u0627\\u0644\\u0627\\u0646\\u062f\\u0645\\u0627\\u062c \\u0627\\u0644\\u0645\\u0628\\u0643\\u0631 \\u0644\\u0644\\u0645\\u0631\\u0621\\u0629 \\u0627\\u0644\\u0639\\u0645\\u0627\\u0646\\u064a\\u0629 \\u0627\\u0644\\u0645\\u0633\\u0631\\u062d \\u0621\\u0641\\u0631\\u0632\\u062a \\u0646\\u0648\\u0639\\u0627 \\u0627\\u0644\\u0627\\u0643\\u062a\\u0641\\u0627\\u0621 \\u0627\\u0644\\u0630\\u0627\\u062a\\u064a \\u062a\\u062e\\u0635\\u0635\\u0627\\u062a \\u0645\\u0633\\u0631\\u062d\\u064a\\u0629 \\u0639\\u062f\\u064a\\u062f\\u0629 \\u062a\\u0646\\u0647\\u0636 \\u0646\\u0633\\u0627\\u0621 \\u0627\\u0644\\u062f\\u064a\\u0643\\u0648\\u0631 \\u0648\\u0627\\u0644\\u0621\\u0632\\u064a\\u0627\\u0621 \\u0648\\u0627\\u0644\\u0645\\u0627\\u0643\\u064a\\u0627\\u062c \\u062c\\u0627\\u0646\\u0628 \\u0627\\u0644\\u062a\\u0621\\u0644\\u064a\\u0641 \\u0648\\u0627\\u0644\\u062a\\u0645\\u062b\\u064a\\u0644 \\u0648\\u0633\\u0648\\u0627\\u0647 \\u0644\\u0627\\u0641\\u062a\\u0629 \\u0627\\u0644\\u0627\\u0647\\u062a\\u0645\\u0627\\u0645 \\u0627\\u0644\\u0631\\u0633\\u0645\\u064a \\u0628\\u062a\\u062d\\u0641\\u064a\\u0632 \\u0645\\u0634\\u0627\\u0631\\u0643\\u0629 \\u0627\\u0644\\u0645\\u0631\\u0621\\u0629 \\u0627\\u0644\\u0646\\u0634\\u0627\\u0637 \\u0627\\u0644\\u0645\\u0633\\u0631\\u062d\\u064a \\u0627\\u0644\\u062f\\u0648\\u0627\\u0645 \\u062f\\u0648\\u0631 \\u0645\\u0647\\u0645 \\u0648\\u0645\\u0621\\u062b\\u0631 \\u0648\\u062a\\u0648\\u0642\\u0641 \\u0627\\u0644\\u0641\\u0646\\u0627\\u0646 \\u0645\\u062d\\u0645\\u062f \\u0628\\u0634\\u0643\\u0644 \\u062e\\u0627\\u0635 \\u0638\\u0627\\u0647\\u0631\\u0629 \\u0627\\u0644\\u0645\\u0647\\u0631\\u062c\\u0627\\u0646\\u0627\\u062a \\u0627\\u0644\\u0645\\u0633\\u0631\\u062d \\u0627\\u0644\\u0639\\u0645\\u0627\\u0646\\u064a \\u0644\\u0627\\u0641\\u062a\\u0627 \\u0627\\u0644\\u0645\\u0647\\u0631\\u062c\\u0627\\u0646\\u0627\\u062a \\u0627\\u0644\\u0639\\u0645\\u0627\\u0646\\u064a\\u0629 \\u062a\\u0637\\u0648\\u0631\\u062a \\u0644\\u062a\\u062a\\u062c\\u0627\\u0648\\u0632 \\u0627\\u0644\\u0645\\u0646\\u0627\\u0637\\u0642\\u064a\\u0629 \\u0648\\u0627\\u0644\\u062c\\u0632\\u0621\\u064a\\u0629 \\u0627\\u0644\\u0634\\u0645\\u0648\\u0644\\u064a\\u0629 \\u0639\\u0628\\u0631 \\u0645\\u0647\\u0631\\u062c\\u0627\\u0646 \\u0627\\u0644\\u0645\\u0633\\u0631\\u062d \\u0627\\u0644\\u0639\\u0645\\u0627\\u0646\\u064a \\u0636\\u0645 \\u0628\\u062f\\u0621\\u0627 \\u0627\\u0644\\u0639\\u0627\\u0645 2004 16 \\u0641\\u0631\\u0642\\u0629 \\u0645\\u0633\\u0631\\u062d\\u064a\\u0629 \\u0645\\u062e\\u062a\\u0644\\u0641\\u0629\\u0648\\u0641\\u0631\\u0642 \\u0646\\u0648\\u0639\\u064a\\u0646 \\u0627\\u0644\\u0645\\u0647\\u0631\\u062c\\u0627\\u0646\\u0627\\u062a \\u0621\\u062d\\u062f\\u0647\\u0645\\u0627 \\u062d\\u0643\\u0648\\u0645\\u064a \\u0627\\u0644\\u0621\\u0643\\u062b\\u0631 \\u0632\\u062e\\u0645\\u0627 \\u0628\\u0641\\u0636\\u0644 \\u0627\\u0644\\u0639\\u0646\\u0627\\u064a\\u0629 \\u0648\\u0627\\u0644\\u062f\\u0639\\u0645 \\u064a\\u062d\\u0638\\u0649 \\u0648\\u0621\\u0621\\u062e\\u0631 \\u062e\\u0627\\u0635 \\u0645\\u0634\\u064a\\u0631\\u0627 \\u0645\\u0647\\u0631\\u062c\\u0627\\u0646 \\u0645\\u0633\\u0631\\u062d \\u0627\\u0644\\u0637\\u0641\\u0644 \\u0628\\u0635\\u0641\\u0629 \\u062a\\u062d\\u0648\\u0644 \\u0621\\u062e\\u064a\\u0631\\u0627 \\u0644\\u064a\\u0635\\u0628\\u062d \\u0645\\u0647\\u0631\\u062c\\u0627\\u0646\\u0627 \\u062f\\u0648\\u0644\\u064a\\u0627 \\u0627\\u0644\\u0633\\u0644\\u0637\\u0646\\u0629 \\u062a\\u0646\\u0641\\u0631\\u062f \\u0628\\u0645\\u0647\\u0631\\u062c\\u0627\\u0646 \\u0645\\u062a\\u062e\\u0635\\u0635 \\u062c\\u062f\\u064a\\u062f \\u0644\\u0644\\u0645\\u0633\\u0631\\u062d \\u0627\\u0644\\u0643\\u0648\\u0645\\u064a\\u062f\\u064a \\u0627\\u0644\\u0641\\u0631\\u064a\\u062f \\u0646\\u0648\\u0639\\u0647 \\u0627\\u0644\\u0645\\u0646\\u0637\\u0642\\u0629 \\u0648\\u062a\\u0637\\u0631\\u0642 \\u0639\\u0645\\u0627\\u062f \\u0627\\u0644\\u0634\\u0646\\u0641\\u0631\\u064a \\u0644\\u062f\\u0648\\u0631 \\u0627\\u0644\\u062c\\u0645\\u0647\\u0648\\u0631 \\u0627\\u0644\\u0645\\u0633\\u0631\\u062d \\u0627\\u0644\\u0639\\u0645\\u0627\\u0646\\u064a \\u0627\\u0644\\u062f\\u0648\\u0631 \\u0621\\u0643\\u062f \\u0627\\u0644\\u0634\\u0646\\u0641\\u0631\\u064a \\u0621\\u0646\\u0647 \\u0645\\u062d\\u0648\\u0631\\u064a\\u0627 \\u0627\\u0632\\u062f\\u0647\\u0627\\u0631 \\u0627\\u0644\\u0645\\u0633\\u0631\\u062d \\u0627\\u0644\\u062d\\u0627\\u0644 \\u062a\\u062c\\u0631\\u0628\\u0629 \\u0645\\u062d\\u0627\\u0641\\u0638\\u0629 \\u0638\\u0641\\u0627\\u0631 \\u062c\\u0627\\u0621\\u062a \\u0628\\u0627\\u0644\\u0645\\u062a\\u0645\\u064a\\u0632\\u0629 \\u062e\\u0644\\u0627\\u0644 \\u0627\\u0644\\u0633\\u0646\\u0648\\u0627\\u062a \\u0627\\u0644\\u0639\\u0634\\u0631\\u064a\\u0646 \\u0627\\u0644\\u0645\\u0627\\u0636\\u064a\\u0629 \\u0644\\u0627\\u0641\\u062a\\u0627 \\u0621\\u0646\\u0647 \\u062a\\u0645 \\u0631\\u0635\\u062f \\u064a\\u0628\\u062d\\u062b \\u0639\\u0646\\u0647 \\u0627\\u0644\\u062c\\u0645\\u0647\\u0648\\u0631 \\u062a\\u0648\\u0641\\u064a\\u0631\\u0647 \\u062c\\u0630\\u0628\\u0647 \\u0641\\u0643\\u0631\\u0629 \\u0646\\u062c\\u0645 \\u0627\\u0644\\u0634\\u0628\\u0627\\u0643 \\u0648\\u0627\\u0644\\u0621\\u0639\\u0645\\u0627\\u0644 \\u0627\\u0644\\u0643\\u0648\\u0645\\u064a\\u062f\\u064a\\u0629 \\u0631\\u0633\\u062e \\u0621\\u0642\\u0628\\u0627\\u0644\\u0627 \\u062c\\u0645\\u0627\\u0647\\u064a\\u0631\\u064a\\u0627 \\u064a\\u062e\\u0630\\u0644 \\u0627\\u0644\\u0645\\u0633\\u0631\\u062d\\u064a\\u064a\\u0646 \\u064a\\u062a\\u0639\\u0644\\u0642 \\u0628\\u0627\\u0644\\u0621\\u0639\\u0645\\u0627\\u0644 \\u0627\\u0644\\u0646\\u062e\\u0628\\u0648\\u064a\\u0629 \\u0648\\u0646\\u0627\\u0642\\u0634 \\u0627\\u0644\\u0641\\u0646\\u0627\\u0646 \\u064a\\u0648\\u0633\\u0641 \\u0627\\u0644\\u0628\\u0644\\u0648\\u0634\\u064a \\u062c\\u062f\\u0648\\u0649 \\u0648\\u062c\\u0648\\u062f \\u0639\\u062f\\u062f \\u0643\\u0628\\u064a\\u0631 \\u0627\\u0644\\u0641\\u0631\\u0642 \\u0627\\u0644\\u0645\\u0633\\u0631\\u062d\\u064a\\u0629 \\u064a\\u0635\\u0644 40 \\u0641\\u0631\\u0642\\u0629 \\u0645\\u0634\\u064a\\u0631\\u0627 \\u0621\\u0646\\u0647 \\u0636\\u0639\\u0641 \\u0621\\u0645\\u0643\\u0627\\u0646\\u0627\\u062a \\u0645\\u0639\\u0638\\u0645 \\u0627\\u0644\\u0641\\u0631\\u0642 \\u064a\\u062c\\u0628 \\u062a\\u0642\\u0646\\u064a\\u0646 \\u0627\\u0644\\u0621\\u0645\\u0631 \\u0648\\u0621\\u0646 \\u064a\\u0643\\u0648\\u0646 \\u0627\\u0633\\u062a\\u064a\\u0639\\u0627\\u0628 \\u062d\\u0642\\u064a\\u0642\\u064a \\u0627\\u0644\\u0621\\u0646\\u062f\\u064a\\u0629 \\u0644\\u0647\\u0630\\u0647 \\u0627\\u0644\\u0637\\u0627\\u0642\\u0627\\u062a \\u0641\\u0639\\u0627\\u0644\"\n        ],\n        \"semantic_type\": \"\",\n        \"description\": \"\"\n      }\n    }\n  ]\n}"
            }
          },
          "metadata": {},
          "execution_count": 49
        }
      ]
    },
    {
      "cell_type": "markdown",
      "id": "790b4a9e",
      "metadata": {
        "id": "790b4a9e"
      },
      "source": [
        "## Step 3: Splitting the Dataset"
      ]
    },
    {
      "cell_type": "markdown",
      "id": "66c8c1f4",
      "metadata": {
        "id": "66c8c1f4"
      },
      "source": [
        "Split the dataset into training and testing sets, ensuring that 20% of the data is used for testing."
      ]
    },
    {
      "cell_type": "code",
      "source": [
        "from sklearn.model_selection import train_test_split\n",
        "\n",
        "train_df, val_df = train_test_split(df, test_size=0.2, random_state=42)"
      ],
      "metadata": {
        "id": "xoIw1wLtSn2q"
      },
      "id": "xoIw1wLtSn2q",
      "execution_count": 53,
      "outputs": []
    },
    {
      "cell_type": "markdown",
      "id": "091d3694",
      "metadata": {
        "id": "091d3694"
      },
      "source": [
        "## Step 4: Tokenizing the Data"
      ]
    },
    {
      "cell_type": "markdown",
      "id": "c6418768",
      "metadata": {
        "id": "c6418768"
      },
      "source": [
        "Initialize a tokenizer for the model."
      ]
    },
    {
      "cell_type": "code",
      "execution_count": 54,
      "id": "89a28bfc",
      "metadata": {
        "id": "89a28bfc",
        "colab": {
          "base_uri": "https://localhost:8080/"
        },
        "outputId": "9c73d4c7-5b4d-473b-f1f3-94a17d165c7a"
      },
      "outputs": [
        {
          "output_type": "stream",
          "name": "stderr",
          "text": [
            "/usr/local/lib/python3.10/dist-packages/transformers/tokenization_utils_base.py:1601: FutureWarning: `clean_up_tokenization_spaces` was not set. It will be set to `True` by default. This behavior will be depracted in transformers v4.45, and will be then set to `False` by default. For more details check this issue: https://github.com/huggingface/transformers/issues/31884\n",
            "  warnings.warn(\n"
          ]
        }
      ],
      "source": [
        "from transformers import BertTokenizer\n",
        "\n",
        "tokenizer = BertTokenizer.from_pretrained(\"aubmindlab/bert-base-arabertv02\")\n",
        "\n",
        "# Tokenize\n",
        "train_encodings = tokenizer(train_df['clean_text'].tolist(), truncation=True, padding=True, max_length=128, return_tensors='tf')\n",
        "val_encodings = tokenizer(val_df['clean_text'].tolist(), truncation=True, padding=True, max_length=128, return_tensors='tf')"
      ]
    },
    {
      "cell_type": "markdown",
      "id": "89500748",
      "metadata": {
        "id": "89500748"
      },
      "source": [
        "## Step 5: Preprocessing the Text"
      ]
    },
    {
      "cell_type": "markdown",
      "id": "30bd6fab",
      "metadata": {
        "id": "30bd6fab"
      },
      "source": [
        "Map the tokenization function to the dataset. Ensure the text data is processed using truncation to handle sequences that exceed the model's input size. Please do any further preprocessing.\n",
        "\n",
        "**Bonus**: If you performed more comprehensive preprocessing, such as removing links, converting text to lowercase, or applying additional preprocessing techniques."
      ]
    },
    {
      "cell_type": "markdown",
      "id": "5f05ad70",
      "metadata": {
        "id": "5f05ad70"
      },
      "source": [
        "### Step 6: Label Encoding"
      ]
    },
    {
      "cell_type": "markdown",
      "id": "87441817",
      "metadata": {
        "id": "87441817"
      },
      "source": [
        "Convert the categorical labels into numerical format using a label encoder if needed."
      ]
    },
    {
      "cell_type": "code",
      "source": [
        "from sklearn.preprocessing import LabelEncoder\n",
        "\n",
        "label_encoder = LabelEncoder()\n",
        "\n",
        "train_df['label'] = label_encoder.fit_transform(train_df['label'])\n",
        "val_df['label'] = label_encoder.transform(val_df['label'])"
      ],
      "metadata": {
        "id": "62dlzr6NYts6"
      },
      "id": "62dlzr6NYts6",
      "execution_count": 99,
      "outputs": []
    },
    {
      "cell_type": "code",
      "source": [
        "type(train_df)"
      ],
      "metadata": {
        "colab": {
          "base_uri": "https://localhost:8080/",
          "height": 203
        },
        "id": "j7aGnVJLho5g",
        "outputId": "dff253c5-7926-4877-985b-d244a89f3a0f"
      },
      "id": "j7aGnVJLho5g",
      "execution_count": 100,
      "outputs": [
        {
          "output_type": "execute_result",
          "data": {
            "text/plain": [
              "pandas.core.frame.DataFrame"
            ],
            "text/html": [
              "<div style=\"max-width:800px; border: 1px solid var(--colab-border-color);\"><style>\n",
              "      pre.function-repr-contents {\n",
              "        overflow-x: auto;\n",
              "        padding: 8px 12px;\n",
              "        max-height: 500px;\n",
              "      }\n",
              "\n",
              "      pre.function-repr-contents.function-repr-contents-collapsed {\n",
              "        cursor: pointer;\n",
              "        max-height: 100px;\n",
              "      }\n",
              "    </style>\n",
              "    <pre style=\"white-space: initial; background:\n",
              "         var(--colab-secondary-surface-color); padding: 8px 12px;\n",
              "         border-bottom: 1px solid var(--colab-border-color);\"><b>pandas.core.frame.DataFrame</b><br/>def __init__(data=None, index: Axes | None=None, columns: Axes | None=None, dtype: Dtype | None=None, copy: bool | None=None) -&gt; None</pre><pre class=\"function-repr-contents function-repr-contents-collapsed\" style=\"\"><a class=\"filepath\" style=\"display:none\" href=\"#\">/usr/local/lib/python3.10/dist-packages/pandas/core/frame.py</a>Two-dimensional, size-mutable, potentially heterogeneous tabular data.\n",
              "\n",
              "Data structure also contains labeled axes (rows and columns).\n",
              "Arithmetic operations align on both row and column labels. Can be\n",
              "thought of as a dict-like container for Series objects. The primary\n",
              "pandas data structure.\n",
              "\n",
              "Parameters\n",
              "----------\n",
              "data : ndarray (structured or homogeneous), Iterable, dict, or DataFrame\n",
              "    Dict can contain Series, arrays, constants, dataclass or list-like objects. If\n",
              "    data is a dict, column order follows insertion-order. If a dict contains Series\n",
              "    which have an index defined, it is aligned by its index. This alignment also\n",
              "    occurs if data is a Series or a DataFrame itself. Alignment is done on\n",
              "    Series/DataFrame inputs.\n",
              "\n",
              "    If data is a list of dicts, column order follows insertion-order.\n",
              "\n",
              "index : Index or array-like\n",
              "    Index to use for resulting frame. Will default to RangeIndex if\n",
              "    no indexing information part of input data and no index provided.\n",
              "columns : Index or array-like\n",
              "    Column labels to use for resulting frame when data does not have them,\n",
              "    defaulting to RangeIndex(0, 1, 2, ..., n). If data contains column labels,\n",
              "    will perform column selection instead.\n",
              "dtype : dtype, default None\n",
              "    Data type to force. Only a single dtype is allowed. If None, infer.\n",
              "copy : bool or None, default None\n",
              "    Copy data from inputs.\n",
              "    For dict data, the default of None behaves like ``copy=True``.  For DataFrame\n",
              "    or 2d ndarray input, the default of None behaves like ``copy=False``.\n",
              "    If data is a dict containing one or more Series (possibly of different dtypes),\n",
              "    ``copy=False`` will ensure that these inputs are not copied.\n",
              "\n",
              "    .. versionchanged:: 1.3.0\n",
              "\n",
              "See Also\n",
              "--------\n",
              "DataFrame.from_records : Constructor from tuples, also record arrays.\n",
              "DataFrame.from_dict : From dicts of Series, arrays, or dicts.\n",
              "read_csv : Read a comma-separated values (csv) file into DataFrame.\n",
              "read_table : Read general delimited file into DataFrame.\n",
              "read_clipboard : Read text from clipboard into DataFrame.\n",
              "\n",
              "Notes\n",
              "-----\n",
              "Please reference the :ref:`User Guide &lt;basics.dataframe&gt;` for more information.\n",
              "\n",
              "Examples\n",
              "--------\n",
              "Constructing DataFrame from a dictionary.\n",
              "\n",
              "&gt;&gt;&gt; d = {&#x27;col1&#x27;: [1, 2], &#x27;col2&#x27;: [3, 4]}\n",
              "&gt;&gt;&gt; df = pd.DataFrame(data=d)\n",
              "&gt;&gt;&gt; df\n",
              "   col1  col2\n",
              "0     1     3\n",
              "1     2     4\n",
              "\n",
              "Notice that the inferred dtype is int64.\n",
              "\n",
              "&gt;&gt;&gt; df.dtypes\n",
              "col1    int64\n",
              "col2    int64\n",
              "dtype: object\n",
              "\n",
              "To enforce a single dtype:\n",
              "\n",
              "&gt;&gt;&gt; df = pd.DataFrame(data=d, dtype=np.int8)\n",
              "&gt;&gt;&gt; df.dtypes\n",
              "col1    int8\n",
              "col2    int8\n",
              "dtype: object\n",
              "\n",
              "Constructing DataFrame from a dictionary including Series:\n",
              "\n",
              "&gt;&gt;&gt; d = {&#x27;col1&#x27;: [0, 1, 2, 3], &#x27;col2&#x27;: pd.Series([2, 3], index=[2, 3])}\n",
              "&gt;&gt;&gt; pd.DataFrame(data=d, index=[0, 1, 2, 3])\n",
              "   col1  col2\n",
              "0     0   NaN\n",
              "1     1   NaN\n",
              "2     2   2.0\n",
              "3     3   3.0\n",
              "\n",
              "Constructing DataFrame from numpy ndarray:\n",
              "\n",
              "&gt;&gt;&gt; df2 = pd.DataFrame(np.array([[1, 2, 3], [4, 5, 6], [7, 8, 9]]),\n",
              "...                    columns=[&#x27;a&#x27;, &#x27;b&#x27;, &#x27;c&#x27;])\n",
              "&gt;&gt;&gt; df2\n",
              "   a  b  c\n",
              "0  1  2  3\n",
              "1  4  5  6\n",
              "2  7  8  9\n",
              "\n",
              "Constructing DataFrame from a numpy ndarray that has labeled columns:\n",
              "\n",
              "&gt;&gt;&gt; data = np.array([(1, 2, 3), (4, 5, 6), (7, 8, 9)],\n",
              "...                 dtype=[(&quot;a&quot;, &quot;i4&quot;), (&quot;b&quot;, &quot;i4&quot;), (&quot;c&quot;, &quot;i4&quot;)])\n",
              "&gt;&gt;&gt; df3 = pd.DataFrame(data, columns=[&#x27;c&#x27;, &#x27;a&#x27;])\n",
              "...\n",
              "&gt;&gt;&gt; df3\n",
              "   c  a\n",
              "0  3  1\n",
              "1  6  4\n",
              "2  9  7\n",
              "\n",
              "Constructing DataFrame from dataclass:\n",
              "\n",
              "&gt;&gt;&gt; from dataclasses import make_dataclass\n",
              "&gt;&gt;&gt; Point = make_dataclass(&quot;Point&quot;, [(&quot;x&quot;, int), (&quot;y&quot;, int)])\n",
              "&gt;&gt;&gt; pd.DataFrame([Point(0, 0), Point(0, 3), Point(2, 3)])\n",
              "   x  y\n",
              "0  0  0\n",
              "1  0  3\n",
              "2  2  3\n",
              "\n",
              "Constructing DataFrame from Series/DataFrame:\n",
              "\n",
              "&gt;&gt;&gt; ser = pd.Series([1, 2, 3], index=[&quot;a&quot;, &quot;b&quot;, &quot;c&quot;])\n",
              "&gt;&gt;&gt; df = pd.DataFrame(data=ser, index=[&quot;a&quot;, &quot;c&quot;])\n",
              "&gt;&gt;&gt; df\n",
              "   0\n",
              "a  1\n",
              "c  3\n",
              "\n",
              "&gt;&gt;&gt; df1 = pd.DataFrame([1, 2, 3], index=[&quot;a&quot;, &quot;b&quot;, &quot;c&quot;], columns=[&quot;x&quot;])\n",
              "&gt;&gt;&gt; df2 = pd.DataFrame(data=df1, index=[&quot;a&quot;, &quot;c&quot;])\n",
              "&gt;&gt;&gt; df2\n",
              "   x\n",
              "a  1\n",
              "c  3</pre>\n",
              "      <script>\n",
              "      if (google.colab.kernel.accessAllowed && google.colab.files && google.colab.files.view) {\n",
              "        for (const element of document.querySelectorAll('.filepath')) {\n",
              "          element.style.display = 'block'\n",
              "          element.onclick = (event) => {\n",
              "            event.preventDefault();\n",
              "            event.stopPropagation();\n",
              "            google.colab.files.view(element.textContent, 491);\n",
              "          };\n",
              "        }\n",
              "      }\n",
              "      for (const element of document.querySelectorAll('.function-repr-contents')) {\n",
              "        element.onclick = (event) => {\n",
              "          event.preventDefault();\n",
              "          event.stopPropagation();\n",
              "          element.classList.toggle('function-repr-contents-collapsed');\n",
              "        };\n",
              "      }\n",
              "      </script>\n",
              "      </div>"
            ]
          },
          "metadata": {},
          "execution_count": 100
        }
      ]
    },
    {
      "cell_type": "code",
      "source": [
        "import tensorflow as tf\n",
        "train_labels = tf.convert_to_tensor(train_df['label'])\n",
        "val_labels = tf.convert_to_tensor(val_df['label'])"
      ],
      "metadata": {
        "id": "bMZ_Ybjkk8aj"
      },
      "id": "bMZ_Ybjkk8aj",
      "execution_count": 102,
      "outputs": []
    },
    {
      "cell_type": "code",
      "source": [
        "from datasets import Dataset\n",
        "train_datasets = Dataset.from_pandas(train_df)\n",
        "val_datasets = Dataset.from_pandas(val_df)"
      ],
      "metadata": {
        "id": "kut76-5_jjf7"
      },
      "id": "kut76-5_jjf7",
      "execution_count": 103,
      "outputs": []
    },
    {
      "cell_type": "code",
      "source": [
        "train_datasets"
      ],
      "metadata": {
        "colab": {
          "base_uri": "https://localhost:8080/"
        },
        "id": "VH36AZO4jyYI",
        "outputId": "de1ae34e-5d58-4d4f-a725-060ad384e2b6"
      },
      "id": "VH36AZO4jyYI",
      "execution_count": 104,
      "outputs": [
        {
          "output_type": "execute_result",
          "data": {
            "text/plain": [
              "Dataset({\n",
              "    features: ['label', 'clean_text', '__index_level_0__'],\n",
              "    num_rows: 4000\n",
              "})"
            ]
          },
          "metadata": {},
          "execution_count": 104
        }
      ]
    },
    {
      "cell_type": "code",
      "source": [
        "val_datasets"
      ],
      "metadata": {
        "colab": {
          "base_uri": "https://localhost:8080/"
        },
        "id": "uhCq1X-mj1fY",
        "outputId": "44568a00-b8e3-4ba1-b7c9-9fa6f34bae05"
      },
      "id": "uhCq1X-mj1fY",
      "execution_count": 105,
      "outputs": [
        {
          "output_type": "execute_result",
          "data": {
            "text/plain": [
              "Dataset({\n",
              "    features: ['label', 'clean_text', '__index_level_0__'],\n",
              "    num_rows: 1000\n",
              "})"
            ]
          },
          "metadata": {},
          "execution_count": 105
        }
      ]
    },
    {
      "cell_type": "code",
      "source": [
        "label_encoder = LabelEncoder()\n",
        "\n",
        "\n",
        "encoded_labels = label_encoder.fit_transform(train_datasets['label'])\n",
        "\n",
        "\n",
        "train_datasets = train_datasets.remove_columns(['label'])\n",
        "train_datasets = train_datasets.add_column('label', encoded_labels)\n",
        "\n",
        "\n",
        "print(train_datasets)"
      ],
      "metadata": {
        "colab": {
          "base_uri": "https://localhost:8080/"
        },
        "id": "YznwZam5mOGd",
        "outputId": "fe0bc733-7c8e-429d-db91-1e19e4f5b896"
      },
      "id": "YznwZam5mOGd",
      "execution_count": 112,
      "outputs": [
        {
          "output_type": "stream",
          "name": "stdout",
          "text": [
            "Dataset({\n",
            "    features: ['clean_text', '__index_level_0__', 'label'],\n",
            "    num_rows: 4000\n",
            "})\n"
          ]
        }
      ]
    },
    {
      "cell_type": "code",
      "source": [
        "label_encoder = LabelEncoder()\n",
        "\n",
        "\n",
        "encoded_labels = label_encoder.fit_transform(val_datasets['label'])\n",
        "\n",
        "\n",
        "val_datasets = val_datasets.remove_columns(['label'])\n",
        "val_datasets = val_datasets.add_column('label', encoded_labels)\n",
        "\n",
        "\n",
        "print(val_datasets)"
      ],
      "metadata": {
        "colab": {
          "base_uri": "https://localhost:8080/"
        },
        "id": "C8_BU-d7moGq",
        "outputId": "c15b28af-5f7a-437c-84ae-cc87a017172c"
      },
      "id": "C8_BU-d7moGq",
      "execution_count": 113,
      "outputs": [
        {
          "output_type": "stream",
          "name": "stdout",
          "text": [
            "Dataset({\n",
            "    features: ['clean_text', '__index_level_0__', 'label'],\n",
            "    num_rows: 1000\n",
            "})\n"
          ]
        }
      ]
    },
    {
      "cell_type": "code",
      "source": [
        "train_datasets['label'][:10]"
      ],
      "metadata": {
        "colab": {
          "base_uri": "https://localhost:8080/"
        },
        "id": "EMxwA3BnnHel",
        "outputId": "149b3d69-da80-44e1-af67-cd5e9d7244be"
      },
      "id": "EMxwA3BnnHel",
      "execution_count": 120,
      "outputs": [
        {
          "output_type": "execute_result",
          "data": {
            "text/plain": [
              "[0, 0, 0, 0, 0, 0, 0, 0, 0, 0]"
            ]
          },
          "metadata": {},
          "execution_count": 120
        }
      ]
    },
    {
      "cell_type": "markdown",
      "id": "2c2cde80",
      "metadata": {
        "id": "2c2cde80"
      },
      "source": [
        "### Step 7: Data Collation for Padding"
      ]
    },
    {
      "cell_type": "markdown",
      "id": "130522fd",
      "metadata": {
        "id": "130522fd"
      },
      "source": [
        "Prepare the data for training by ensuring all sequences in a batch are padded to the same length. Use a data collator to handle dynamic padding."
      ]
    },
    {
      "cell_type": "code",
      "source": [
        "from transformers import DataCollatorWithPadding\n",
        "\n",
        "data_collator = DataCollatorWithPadding(tokenizer=tokenizer, return_tensors=\"tf\")"
      ],
      "metadata": {
        "id": "LY_N-1ssZcKY"
      },
      "id": "LY_N-1ssZcKY",
      "execution_count": 121,
      "outputs": []
    },
    {
      "cell_type": "markdown",
      "id": "08125f2b",
      "metadata": {
        "id": "08125f2b"
      },
      "source": [
        "### Step 8: Model Initialization"
      ]
    },
    {
      "cell_type": "markdown",
      "id": "a209e8e8",
      "metadata": {
        "id": "a209e8e8"
      },
      "source": [
        "Initialize a sequence classification model using the BERT-based architecture. Set the the right amount of output labels."
      ]
    },
    {
      "cell_type": "code",
      "source": [
        "!pip install transformers"
      ],
      "metadata": {
        "colab": {
          "base_uri": "https://localhost:8080/"
        },
        "id": "yk2xliDJodw_",
        "outputId": "5018d3ea-d946-440a-d95c-f5030c891510"
      },
      "id": "yk2xliDJodw_",
      "execution_count": 136,
      "outputs": [
        {
          "output_type": "stream",
          "name": "stdout",
          "text": [
            "Requirement already satisfied: transformers in /usr/local/lib/python3.10/dist-packages (4.44.2)\n",
            "Requirement already satisfied: filelock in /usr/local/lib/python3.10/dist-packages (from transformers) (3.16.0)\n",
            "Requirement already satisfied: huggingface-hub<1.0,>=0.23.2 in /usr/local/lib/python3.10/dist-packages (from transformers) (0.24.6)\n",
            "Requirement already satisfied: numpy>=1.17 in /usr/local/lib/python3.10/dist-packages (from transformers) (1.26.4)\n",
            "Requirement already satisfied: packaging>=20.0 in /usr/local/lib/python3.10/dist-packages (from transformers) (24.1)\n",
            "Requirement already satisfied: pyyaml>=5.1 in /usr/local/lib/python3.10/dist-packages (from transformers) (6.0.2)\n",
            "Requirement already satisfied: regex!=2019.12.17 in /usr/local/lib/python3.10/dist-packages (from transformers) (2024.5.15)\n",
            "Requirement already satisfied: requests in /usr/local/lib/python3.10/dist-packages (from transformers) (2.32.3)\n",
            "Requirement already satisfied: safetensors>=0.4.1 in /usr/local/lib/python3.10/dist-packages (from transformers) (0.4.5)\n",
            "Requirement already satisfied: tokenizers<0.20,>=0.19 in /usr/local/lib/python3.10/dist-packages (from transformers) (0.19.1)\n",
            "Requirement already satisfied: tqdm>=4.27 in /usr/local/lib/python3.10/dist-packages (from transformers) (4.66.5)\n",
            "Requirement already satisfied: fsspec>=2023.5.0 in /usr/local/lib/python3.10/dist-packages (from huggingface-hub<1.0,>=0.23.2->transformers) (2024.6.1)\n",
            "Requirement already satisfied: typing-extensions>=3.7.4.3 in /usr/local/lib/python3.10/dist-packages (from huggingface-hub<1.0,>=0.23.2->transformers) (4.12.2)\n",
            "Requirement already satisfied: charset-normalizer<4,>=2 in /usr/local/lib/python3.10/dist-packages (from requests->transformers) (3.3.2)\n",
            "Requirement already satisfied: idna<4,>=2.5 in /usr/local/lib/python3.10/dist-packages (from requests->transformers) (3.8)\n",
            "Requirement already satisfied: urllib3<3,>=1.21.1 in /usr/local/lib/python3.10/dist-packages (from requests->transformers) (2.0.7)\n",
            "Requirement already satisfied: certifi>=2017.4.17 in /usr/local/lib/python3.10/dist-packages (from requests->transformers) (2024.8.30)\n"
          ]
        }
      ]
    },
    {
      "cell_type": "code",
      "source": [
        "from transformers import AutoModelForSequenceClassification, Trainer, TrainingArguments\n",
        "\n",
        "num_labels = 3\n",
        "model = AutoModelForSequenceClassification.from_pretrained(\"aubmindlab/bert-base-arabertv02\", num_labels=num_labels)"
      ],
      "metadata": {
        "colab": {
          "base_uri": "https://localhost:8080/"
        },
        "id": "xQSi2Y42cDAd",
        "outputId": "885bdea9-3f75-4908-92ff-fde40ccf393f"
      },
      "id": "xQSi2Y42cDAd",
      "execution_count": 142,
      "outputs": [
        {
          "output_type": "stream",
          "name": "stderr",
          "text": [
            "Some weights of BertForSequenceClassification were not initialized from the model checkpoint at aubmindlab/bert-base-arabertv02 and are newly initialized: ['classifier.bias', 'classifier.weight']\n",
            "You should probably TRAIN this model on a down-stream task to be able to use it for predictions and inference.\n"
          ]
        }
      ]
    },
    {
      "cell_type": "markdown",
      "id": "c662a02e",
      "metadata": {
        "id": "c662a02e"
      },
      "source": [
        "## Step 9: Training Arguments"
      ]
    },
    {
      "cell_type": "markdown",
      "id": "fc922a37",
      "metadata": {
        "id": "fc922a37"
      },
      "source": [
        "Define the training arguments, including parameters such as learning rate, batch size, number of epochs, and weight decay."
      ]
    },
    {
      "cell_type": "code",
      "source": [
        "training_args = TrainingArguments(\n",
        "    output_dir='./results',\n",
        "    num_train_epochs=3,\n",
        "    weight_decay=0.01,\n",
        "    learning_rate=5e-5\n",
        ")\n"
      ],
      "metadata": {
        "id": "X3BfIq5YQi02"
      },
      "id": "X3BfIq5YQi02",
      "execution_count": 143,
      "outputs": []
    },
    {
      "cell_type": "markdown",
      "id": "74aabddb",
      "metadata": {
        "id": "74aabddb"
      },
      "source": [
        "## Step 10: Trainer Initialization and Training"
      ]
    },
    {
      "cell_type": "markdown",
      "id": "3d3b4bf5",
      "metadata": {
        "id": "3d3b4bf5"
      },
      "source": [
        "Set up the trainer with the model, training arguments, dataset, tokenizer, and data collator. Train the model using the dataset you processed earlier."
      ]
    },
    {
      "cell_type": "code",
      "execution_count": 144,
      "id": "a2c24838",
      "metadata": {
        "id": "a2c24838"
      },
      "outputs": [],
      "source": [
        "trainer = Trainer(\n",
        "    model=model,\n",
        "    args=training_args,\n",
        "    train_dataset=train_datasets,\n",
        "    eval_dataset=val_datasets,\n",
        "    tokenizer=tokenizer,\n",
        "    data_collator=data_collator\n",
        ")"
      ]
    },
    {
      "cell_type": "code",
      "source": [
        "trainer.train()"
      ],
      "metadata": {
        "colab": {
          "base_uri": "https://localhost:8080/",
          "height": 304
        },
        "id": "Wig0RPftdhh8",
        "outputId": "f42b63b6-be71-493c-b5db-765b976cd8f9"
      },
      "id": "Wig0RPftdhh8",
      "execution_count": 145,
      "outputs": [
        {
          "output_type": "error",
          "ename": "ValueError",
          "evalue": "You should supply an encoding or a list of encodings to this method that includes input_ids, but you provided ['label']",
          "traceback": [
            "\u001b[0;31m---------------------------------------------------------------------------\u001b[0m",
            "\u001b[0;31mValueError\u001b[0m                                Traceback (most recent call last)",
            "\u001b[0;32m<ipython-input-145-3435b262f1ae>\u001b[0m in \u001b[0;36m<cell line: 1>\u001b[0;34m()\u001b[0m\n\u001b[0;32m----> 1\u001b[0;31m \u001b[0mtrainer\u001b[0m\u001b[0;34m.\u001b[0m\u001b[0mtrain\u001b[0m\u001b[0;34m(\u001b[0m\u001b[0;34m)\u001b[0m\u001b[0;34m\u001b[0m\u001b[0;34m\u001b[0m\u001b[0m\n\u001b[0m",
            "\u001b[0;32m/usr/local/lib/python3.10/dist-packages/transformers/trainer.py\u001b[0m in \u001b[0;36mtrain\u001b[0;34m(self, resume_from_checkpoint, trial, ignore_keys_for_eval, **kwargs)\u001b[0m\n\u001b[1;32m   1936\u001b[0m                 \u001b[0mhf_hub_utils\u001b[0m\u001b[0;34m.\u001b[0m\u001b[0menable_progress_bars\u001b[0m\u001b[0;34m(\u001b[0m\u001b[0;34m)\u001b[0m\u001b[0;34m\u001b[0m\u001b[0;34m\u001b[0m\u001b[0m\n\u001b[1;32m   1937\u001b[0m         \u001b[0;32melse\u001b[0m\u001b[0;34m:\u001b[0m\u001b[0;34m\u001b[0m\u001b[0;34m\u001b[0m\u001b[0m\n\u001b[0;32m-> 1938\u001b[0;31m             return inner_training_loop(\n\u001b[0m\u001b[1;32m   1939\u001b[0m                 \u001b[0margs\u001b[0m\u001b[0;34m=\u001b[0m\u001b[0margs\u001b[0m\u001b[0;34m,\u001b[0m\u001b[0;34m\u001b[0m\u001b[0;34m\u001b[0m\u001b[0m\n\u001b[1;32m   1940\u001b[0m                 \u001b[0mresume_from_checkpoint\u001b[0m\u001b[0;34m=\u001b[0m\u001b[0mresume_from_checkpoint\u001b[0m\u001b[0;34m,\u001b[0m\u001b[0;34m\u001b[0m\u001b[0;34m\u001b[0m\u001b[0m\n",
            "\u001b[0;32m/usr/local/lib/python3.10/dist-packages/transformers/trainer.py\u001b[0m in \u001b[0;36m_inner_training_loop\u001b[0;34m(self, batch_size, args, resume_from_checkpoint, trial, ignore_keys_for_eval)\u001b[0m\n\u001b[1;32m   2234\u001b[0m \u001b[0;34m\u001b[0m\u001b[0m\n\u001b[1;32m   2235\u001b[0m             \u001b[0mstep\u001b[0m \u001b[0;34m=\u001b[0m \u001b[0;34m-\u001b[0m\u001b[0;36m1\u001b[0m\u001b[0;34m\u001b[0m\u001b[0;34m\u001b[0m\u001b[0m\n\u001b[0;32m-> 2236\u001b[0;31m             \u001b[0;32mfor\u001b[0m \u001b[0mstep\u001b[0m\u001b[0;34m,\u001b[0m \u001b[0minputs\u001b[0m \u001b[0;32min\u001b[0m \u001b[0menumerate\u001b[0m\u001b[0;34m(\u001b[0m\u001b[0mepoch_iterator\u001b[0m\u001b[0;34m)\u001b[0m\u001b[0;34m:\u001b[0m\u001b[0;34m\u001b[0m\u001b[0;34m\u001b[0m\u001b[0m\n\u001b[0m\u001b[1;32m   2237\u001b[0m                 \u001b[0mtotal_batched_samples\u001b[0m \u001b[0;34m+=\u001b[0m \u001b[0;36m1\u001b[0m\u001b[0;34m\u001b[0m\u001b[0;34m\u001b[0m\u001b[0m\n\u001b[1;32m   2238\u001b[0m \u001b[0;34m\u001b[0m\u001b[0m\n",
            "\u001b[0;32m/usr/local/lib/python3.10/dist-packages/accelerate/data_loader.py\u001b[0m in \u001b[0;36m__iter__\u001b[0;34m(self)\u001b[0m\n\u001b[1;32m    548\u001b[0m         \u001b[0;31m# We iterate one batch ahead to check when we are at the end\u001b[0m\u001b[0;34m\u001b[0m\u001b[0;34m\u001b[0m\u001b[0m\n\u001b[1;32m    549\u001b[0m         \u001b[0;32mtry\u001b[0m\u001b[0;34m:\u001b[0m\u001b[0;34m\u001b[0m\u001b[0;34m\u001b[0m\u001b[0m\n\u001b[0;32m--> 550\u001b[0;31m             \u001b[0mcurrent_batch\u001b[0m \u001b[0;34m=\u001b[0m \u001b[0mnext\u001b[0m\u001b[0;34m(\u001b[0m\u001b[0mdataloader_iter\u001b[0m\u001b[0;34m)\u001b[0m\u001b[0;34m\u001b[0m\u001b[0;34m\u001b[0m\u001b[0m\n\u001b[0m\u001b[1;32m    551\u001b[0m         \u001b[0;32mexcept\u001b[0m \u001b[0mStopIteration\u001b[0m\u001b[0;34m:\u001b[0m\u001b[0;34m\u001b[0m\u001b[0;34m\u001b[0m\u001b[0m\n\u001b[1;32m    552\u001b[0m             \u001b[0;32myield\u001b[0m\u001b[0;34m\u001b[0m\u001b[0;34m\u001b[0m\u001b[0m\n",
            "\u001b[0;32m/usr/local/lib/python3.10/dist-packages/torch/utils/data/dataloader.py\u001b[0m in \u001b[0;36m__next__\u001b[0;34m(self)\u001b[0m\n\u001b[1;32m    628\u001b[0m                 \u001b[0;31m# TODO(https://github.com/pytorch/pytorch/issues/76750)\u001b[0m\u001b[0;34m\u001b[0m\u001b[0;34m\u001b[0m\u001b[0m\n\u001b[1;32m    629\u001b[0m                 \u001b[0mself\u001b[0m\u001b[0;34m.\u001b[0m\u001b[0m_reset\u001b[0m\u001b[0;34m(\u001b[0m\u001b[0;34m)\u001b[0m  \u001b[0;31m# type: ignore[call-arg]\u001b[0m\u001b[0;34m\u001b[0m\u001b[0;34m\u001b[0m\u001b[0m\n\u001b[0;32m--> 630\u001b[0;31m             \u001b[0mdata\u001b[0m \u001b[0;34m=\u001b[0m \u001b[0mself\u001b[0m\u001b[0;34m.\u001b[0m\u001b[0m_next_data\u001b[0m\u001b[0;34m(\u001b[0m\u001b[0;34m)\u001b[0m\u001b[0;34m\u001b[0m\u001b[0;34m\u001b[0m\u001b[0m\n\u001b[0m\u001b[1;32m    631\u001b[0m             \u001b[0mself\u001b[0m\u001b[0;34m.\u001b[0m\u001b[0m_num_yielded\u001b[0m \u001b[0;34m+=\u001b[0m \u001b[0;36m1\u001b[0m\u001b[0;34m\u001b[0m\u001b[0;34m\u001b[0m\u001b[0m\n\u001b[1;32m    632\u001b[0m             \u001b[0;32mif\u001b[0m \u001b[0mself\u001b[0m\u001b[0;34m.\u001b[0m\u001b[0m_dataset_kind\u001b[0m \u001b[0;34m==\u001b[0m \u001b[0m_DatasetKind\u001b[0m\u001b[0;34m.\u001b[0m\u001b[0mIterable\u001b[0m \u001b[0;32mand\u001b[0m\u001b[0;31m \u001b[0m\u001b[0;31m\\\u001b[0m\u001b[0;34m\u001b[0m\u001b[0;34m\u001b[0m\u001b[0m\n",
            "\u001b[0;32m/usr/local/lib/python3.10/dist-packages/torch/utils/data/dataloader.py\u001b[0m in \u001b[0;36m_next_data\u001b[0;34m(self)\u001b[0m\n\u001b[1;32m    671\u001b[0m     \u001b[0;32mdef\u001b[0m \u001b[0m_next_data\u001b[0m\u001b[0;34m(\u001b[0m\u001b[0mself\u001b[0m\u001b[0;34m)\u001b[0m\u001b[0;34m:\u001b[0m\u001b[0;34m\u001b[0m\u001b[0;34m\u001b[0m\u001b[0m\n\u001b[1;32m    672\u001b[0m         \u001b[0mindex\u001b[0m \u001b[0;34m=\u001b[0m \u001b[0mself\u001b[0m\u001b[0;34m.\u001b[0m\u001b[0m_next_index\u001b[0m\u001b[0;34m(\u001b[0m\u001b[0;34m)\u001b[0m  \u001b[0;31m# may raise StopIteration\u001b[0m\u001b[0;34m\u001b[0m\u001b[0;34m\u001b[0m\u001b[0m\n\u001b[0;32m--> 673\u001b[0;31m         \u001b[0mdata\u001b[0m \u001b[0;34m=\u001b[0m \u001b[0mself\u001b[0m\u001b[0;34m.\u001b[0m\u001b[0m_dataset_fetcher\u001b[0m\u001b[0;34m.\u001b[0m\u001b[0mfetch\u001b[0m\u001b[0;34m(\u001b[0m\u001b[0mindex\u001b[0m\u001b[0;34m)\u001b[0m  \u001b[0;31m# may raise StopIteration\u001b[0m\u001b[0;34m\u001b[0m\u001b[0;34m\u001b[0m\u001b[0m\n\u001b[0m\u001b[1;32m    674\u001b[0m         \u001b[0;32mif\u001b[0m \u001b[0mself\u001b[0m\u001b[0;34m.\u001b[0m\u001b[0m_pin_memory\u001b[0m\u001b[0;34m:\u001b[0m\u001b[0;34m\u001b[0m\u001b[0;34m\u001b[0m\u001b[0m\n\u001b[1;32m    675\u001b[0m             \u001b[0mdata\u001b[0m \u001b[0;34m=\u001b[0m \u001b[0m_utils\u001b[0m\u001b[0;34m.\u001b[0m\u001b[0mpin_memory\u001b[0m\u001b[0;34m.\u001b[0m\u001b[0mpin_memory\u001b[0m\u001b[0;34m(\u001b[0m\u001b[0mdata\u001b[0m\u001b[0;34m,\u001b[0m \u001b[0mself\u001b[0m\u001b[0;34m.\u001b[0m\u001b[0m_pin_memory_device\u001b[0m\u001b[0;34m)\u001b[0m\u001b[0;34m\u001b[0m\u001b[0;34m\u001b[0m\u001b[0m\n",
            "\u001b[0;32m/usr/local/lib/python3.10/dist-packages/torch/utils/data/_utils/fetch.py\u001b[0m in \u001b[0;36mfetch\u001b[0;34m(self, possibly_batched_index)\u001b[0m\n\u001b[1;32m     53\u001b[0m         \u001b[0;32melse\u001b[0m\u001b[0;34m:\u001b[0m\u001b[0;34m\u001b[0m\u001b[0;34m\u001b[0m\u001b[0m\n\u001b[1;32m     54\u001b[0m             \u001b[0mdata\u001b[0m \u001b[0;34m=\u001b[0m \u001b[0mself\u001b[0m\u001b[0;34m.\u001b[0m\u001b[0mdataset\u001b[0m\u001b[0;34m[\u001b[0m\u001b[0mpossibly_batched_index\u001b[0m\u001b[0;34m]\u001b[0m\u001b[0;34m\u001b[0m\u001b[0;34m\u001b[0m\u001b[0m\n\u001b[0;32m---> 55\u001b[0;31m         \u001b[0;32mreturn\u001b[0m \u001b[0mself\u001b[0m\u001b[0;34m.\u001b[0m\u001b[0mcollate_fn\u001b[0m\u001b[0;34m(\u001b[0m\u001b[0mdata\u001b[0m\u001b[0;34m)\u001b[0m\u001b[0;34m\u001b[0m\u001b[0;34m\u001b[0m\u001b[0m\n\u001b[0m",
            "\u001b[0;32m/usr/local/lib/python3.10/dist-packages/transformers/data/data_collator.py\u001b[0m in \u001b[0;36m__call__\u001b[0;34m(self, features)\u001b[0m\n\u001b[1;32m    269\u001b[0m \u001b[0;34m\u001b[0m\u001b[0m\n\u001b[1;32m    270\u001b[0m     \u001b[0;32mdef\u001b[0m \u001b[0m__call__\u001b[0m\u001b[0;34m(\u001b[0m\u001b[0mself\u001b[0m\u001b[0;34m,\u001b[0m \u001b[0mfeatures\u001b[0m\u001b[0;34m:\u001b[0m \u001b[0mList\u001b[0m\u001b[0;34m[\u001b[0m\u001b[0mDict\u001b[0m\u001b[0;34m[\u001b[0m\u001b[0mstr\u001b[0m\u001b[0;34m,\u001b[0m \u001b[0mAny\u001b[0m\u001b[0;34m]\u001b[0m\u001b[0;34m]\u001b[0m\u001b[0;34m)\u001b[0m \u001b[0;34m->\u001b[0m \u001b[0mDict\u001b[0m\u001b[0;34m[\u001b[0m\u001b[0mstr\u001b[0m\u001b[0;34m,\u001b[0m \u001b[0mAny\u001b[0m\u001b[0;34m]\u001b[0m\u001b[0;34m:\u001b[0m\u001b[0;34m\u001b[0m\u001b[0;34m\u001b[0m\u001b[0m\n\u001b[0;32m--> 271\u001b[0;31m         batch = pad_without_fast_tokenizer_warning(\n\u001b[0m\u001b[1;32m    272\u001b[0m             \u001b[0mself\u001b[0m\u001b[0;34m.\u001b[0m\u001b[0mtokenizer\u001b[0m\u001b[0;34m,\u001b[0m\u001b[0;34m\u001b[0m\u001b[0;34m\u001b[0m\u001b[0m\n\u001b[1;32m    273\u001b[0m             \u001b[0mfeatures\u001b[0m\u001b[0;34m,\u001b[0m\u001b[0;34m\u001b[0m\u001b[0;34m\u001b[0m\u001b[0m\n",
            "\u001b[0;32m/usr/local/lib/python3.10/dist-packages/transformers/data/data_collator.py\u001b[0m in \u001b[0;36mpad_without_fast_tokenizer_warning\u001b[0;34m(tokenizer, *pad_args, **pad_kwargs)\u001b[0m\n\u001b[1;32m     64\u001b[0m \u001b[0;34m\u001b[0m\u001b[0m\n\u001b[1;32m     65\u001b[0m     \u001b[0;32mtry\u001b[0m\u001b[0;34m:\u001b[0m\u001b[0;34m\u001b[0m\u001b[0;34m\u001b[0m\u001b[0m\n\u001b[0;32m---> 66\u001b[0;31m         \u001b[0mpadded\u001b[0m \u001b[0;34m=\u001b[0m \u001b[0mtokenizer\u001b[0m\u001b[0;34m.\u001b[0m\u001b[0mpad\u001b[0m\u001b[0;34m(\u001b[0m\u001b[0;34m*\u001b[0m\u001b[0mpad_args\u001b[0m\u001b[0;34m,\u001b[0m \u001b[0;34m**\u001b[0m\u001b[0mpad_kwargs\u001b[0m\u001b[0;34m)\u001b[0m\u001b[0;34m\u001b[0m\u001b[0;34m\u001b[0m\u001b[0m\n\u001b[0m\u001b[1;32m     67\u001b[0m     \u001b[0;32mfinally\u001b[0m\u001b[0;34m:\u001b[0m\u001b[0;34m\u001b[0m\u001b[0;34m\u001b[0m\u001b[0m\n\u001b[1;32m     68\u001b[0m         \u001b[0;31m# Restore the state of the warning.\u001b[0m\u001b[0;34m\u001b[0m\u001b[0;34m\u001b[0m\u001b[0m\n",
            "\u001b[0;32m/usr/local/lib/python3.10/dist-packages/transformers/tokenization_utils_base.py\u001b[0m in \u001b[0;36mpad\u001b[0;34m(self, encoded_inputs, padding, max_length, pad_to_multiple_of, return_attention_mask, return_tensors, verbose)\u001b[0m\n\u001b[1;32m   3477\u001b[0m         \u001b[0;31m# The model's main input name, usually `input_ids`, has be passed for padding\u001b[0m\u001b[0;34m\u001b[0m\u001b[0;34m\u001b[0m\u001b[0m\n\u001b[1;32m   3478\u001b[0m         \u001b[0;32mif\u001b[0m \u001b[0mself\u001b[0m\u001b[0;34m.\u001b[0m\u001b[0mmodel_input_names\u001b[0m\u001b[0;34m[\u001b[0m\u001b[0;36m0\u001b[0m\u001b[0;34m]\u001b[0m \u001b[0;32mnot\u001b[0m \u001b[0;32min\u001b[0m \u001b[0mencoded_inputs\u001b[0m\u001b[0;34m:\u001b[0m\u001b[0;34m\u001b[0m\u001b[0;34m\u001b[0m\u001b[0m\n\u001b[0;32m-> 3479\u001b[0;31m             raise ValueError(\n\u001b[0m\u001b[1;32m   3480\u001b[0m                 \u001b[0;34m\"You should supply an encoding or a list of encodings to this method \"\u001b[0m\u001b[0;34m\u001b[0m\u001b[0;34m\u001b[0m\u001b[0m\n\u001b[1;32m   3481\u001b[0m                 \u001b[0;34mf\"that includes {self.model_input_names[0]}, but you provided {list(encoded_inputs.keys())}\"\u001b[0m\u001b[0;34m\u001b[0m\u001b[0;34m\u001b[0m\u001b[0m\n",
            "\u001b[0;31mValueError\u001b[0m: You should supply an encoding or a list of encodings to this method that includes input_ids, but you provided ['label']"
          ]
        }
      ]
    },
    {
      "cell_type": "markdown",
      "id": "9b7e59cb",
      "metadata": {
        "id": "9b7e59cb"
      },
      "source": [
        "## Step 11: Inference"
      ]
    },
    {
      "cell_type": "markdown",
      "id": "0c5ed70c",
      "metadata": {
        "id": "0c5ed70c"
      },
      "source": [
        "Once the model is trained, perform inference on a sample text to evaluate the model's prediction capabilities. Use the tokenizer to process the text, and then feed it into the model to get the predicted label."
      ]
    },
    {
      "cell_type": "code",
      "execution_count": null,
      "id": "0d90a5b5",
      "metadata": {
        "id": "0d90a5b5"
      },
      "outputs": [],
      "source": []
    }
  ],
  "metadata": {
    "language_info": {
      "name": "python"
    },
    "colab": {
      "provenance": []
    },
    "kernelspec": {
      "name": "python3",
      "display_name": "Python 3"
    }
  },
  "nbformat": 4,
  "nbformat_minor": 5
}